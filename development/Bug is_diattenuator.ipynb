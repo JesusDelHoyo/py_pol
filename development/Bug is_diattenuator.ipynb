{
 "cells": [
  {
   "cell_type": "code",
   "execution_count": 1,
   "id": "daeaf02c-dcd4-41ef-a0d4-f975c4aa722c",
   "metadata": {},
   "outputs": [],
   "source": [
    "%load_ext autoreload\n",
    "%autoreload 2"
   ]
  },
  {
   "cell_type": "code",
   "execution_count": 2,
   "id": "b8b71f2f-f2c0-4f2b-9e48-936bcc29ef2c",
   "metadata": {},
   "outputs": [],
   "source": [
    "from py_pol.mueller import Mueller, Stokes, np, degrees"
   ]
  },
  {
   "cell_type": "code",
   "execution_count": 15,
   "id": "9d7e8674-653a-42a4-aad3-8d428d322855",
   "metadata": {},
   "outputs": [
    {
     "name": "stdout",
     "output_type": "stream",
     "text": [
      "M = \n",
      "[+0.340 +0.260 +0.150 +0.000]   \n",
      "[+0.260 +0.295 +0.078 +0.000]   \n",
      "[+0.150 +0.078 +0.205 +0.000]   \n",
      "[+0.000 +0.000 +0.000 +0.160]   \n",
      "\n",
      "S depolarized normalized = \n",
      "[+1.000]   \n",
      "[+0.866]   \n",
      "[+0.500]   \n",
      "[+0.000]   \n",
      "\n",
      "1st eigenstate = \n",
      "[+1.000]   \n",
      "[-0.866]   \n",
      "[-0.500]   \n",
      "[+0.000]   \n",
      " 2nd eigenstate = \n",
      "[+1.000]   \n",
      "[+0.866]   \n",
      "[+0.500]   \n",
      "[-0.000]   \n",
      "\n",
      "5.438959822042073e-16 5.438959822042073e-16\n"
     ]
    },
    {
     "data": {
      "text/plain": [
       "array([ True])"
      ]
     },
     "execution_count": 15,
     "metadata": {},
     "output_type": "execute_result"
    }
   ],
   "source": [
    "M = Mueller().diattenuator_azimuth_ellipticity(p1=0.8, p2=0.2, azimuth=15*degrees, ellipticity=0)\n",
    "print(M)\n",
    "S = Stokes().from_components(M.M[:, 0])\n",
    "print(S.set_depolarization(1).normalize())\n",
    "M.checks.is_diattenuator()"
   ]
  },
  {
   "cell_type": "code",
   "execution_count": 24,
   "id": "fff39726-3421-4af8-adcc-4d301d97657b",
   "metadata": {},
   "outputs": [
    {
     "name": "stdout",
     "output_type": "stream",
     "text": [
      "M is a diattenuator:\n",
      "  Diattenuator\n",
      "[ True  True  True  True  True  True  True  True  True  True  True  True\n",
      "  True  True  True  True  True  True  True  True  True  True  True  True\n",
      "  True  True  True  True  True  True  True  True  True  True  True  True\n",
      "  True  True  True  True  True  True  True  True  True  True  True  True\n",
      "  True  True  True  True  True  True  True  True  True  True  True  True\n",
      "  True  True  True  True  True  True  True  True  True  True  True  True\n",
      "  True  True  True  True  True  True  True  True  True  True  True  True\n",
      "  True  True  True  True  True  True  True  True  True  True  True  True\n",
      "  True  True  True  True]\n",
      "  D > 0\n",
      "[ True  True  True  True  True  True  True  True  True  True  True  True\n",
      "  True  True  True  True  True  True  True  True  True  True  True  True\n",
      "  True  True  True  True  True  True  True  True  True  True  True  True\n",
      "  True  True  True  True  True  True  True  True  True  True  True  True\n",
      "  True  True  True  True  True  True  True  True  True  True  True  True\n",
      "  True  True  True  True  True  True  True  True  True  True  True  True\n",
      "  True  True  True  True  True  True  True  True  True  True  True  True\n",
      "  True  True  True  True  True  True  True  True  True  True  True  True\n",
      "  True  True  True  True]\n",
      "  Symetric\n",
      "[ True  True  True  True  True  True  True  True  True  True  True  True\n",
      "  True  True  True  True  True  True  True  True  True  True  True  True\n",
      "  True  True  True  True  True  True  True  True  True  True  True  True\n",
      "  True  True  True  True  True  True  True  True  True  True  True  True\n",
      "  True  True  True  True  True  True  True  True  True  True  True  True\n",
      "  True  True  True  True  True  True  True  True  True  True  True  True\n",
      "  True  True  True  True  True  True  True  True  True  True  True  True\n",
      "  True  True  True  True  True  True  True  True  True  True  True  True\n",
      "  True  True  True  True]\n",
      "  Correct eigenstates\n",
      "[ True  True  True  True  True  True  True  True  True  True  True  True\n",
      "  True  True  True  True  True  True  True  True  True  True  True  True\n",
      "  True  True  True  True  True  True  True  True  True  True  True  True\n",
      "  True  True  True  True  True  True  True  True  True  True  True  True\n",
      "  True  True  True  True  True  True  True  True  True  True  True  True\n",
      "  True  True  True  True  True  True  True  True  True  True  True  True\n",
      "  True  True  True  True  True  True  True  True  True  True  True  True\n",
      "  True  True  True  True  True  True  True  True  True  True  True  True\n",
      "  True  True  True  True]\n",
      "The mean value of param Diattenuator is 1.0 +- 0.0\n",
      "The mean value of param D > 0 is 1.0 +- 0.0\n",
      "The mean value of param Symetric is 1.0 +- 0.0\n",
      "The mean value of param Correct eigenstates is 1.0 +- 0.0\n",
      "\n",
      "(array([ True,  True,  True,  True,  True,  True,  True,  True,  True,\n",
      "        True,  True,  True,  True,  True,  True,  True,  True,  True,\n",
      "        True,  True,  True,  True,  True,  True,  True,  True,  True,\n",
      "        True,  True,  True,  True,  True,  True,  True,  True,  True,\n",
      "        True,  True,  True,  True,  True,  True,  True,  True,  True,\n",
      "        True,  True,  True,  True,  True,  True,  True,  True,  True,\n",
      "        True,  True,  True,  True,  True,  True,  True,  True,  True,\n",
      "        True,  True,  True,  True,  True,  True,  True,  True,  True,\n",
      "        True,  True,  True,  True,  True,  True,  True,  True,  True,\n",
      "        True,  True,  True,  True,  True,  True,  True,  True,  True,\n",
      "        True,  True,  True,  True,  True,  True,  True,  True,  True,\n",
      "        True]), [array([ True,  True,  True,  True,  True,  True,  True,  True,  True,\n",
      "        True,  True,  True,  True,  True,  True,  True,  True,  True,\n",
      "        True,  True,  True,  True,  True,  True,  True,  True,  True,\n",
      "        True,  True,  True,  True,  True,  True,  True,  True,  True,\n",
      "        True,  True,  True,  True,  True,  True,  True,  True,  True,\n",
      "        True,  True,  True,  True,  True,  True,  True,  True,  True,\n",
      "        True,  True,  True,  True,  True,  True,  True,  True,  True,\n",
      "        True,  True,  True,  True,  True,  True,  True,  True,  True,\n",
      "        True,  True,  True,  True,  True,  True,  True,  True,  True,\n",
      "        True,  True,  True,  True,  True,  True,  True,  True,  True,\n",
      "        True,  True,  True,  True,  True,  True,  True,  True,  True,\n",
      "        True]), array([ True,  True,  True,  True,  True,  True,  True,  True,  True,\n",
      "        True,  True,  True,  True,  True,  True,  True,  True,  True,\n",
      "        True,  True,  True,  True,  True,  True,  True,  True,  True,\n",
      "        True,  True,  True,  True,  True,  True,  True,  True,  True,\n",
      "        True,  True,  True,  True,  True,  True,  True,  True,  True,\n",
      "        True,  True,  True,  True,  True,  True,  True,  True,  True,\n",
      "        True,  True,  True,  True,  True,  True,  True,  True,  True,\n",
      "        True,  True,  True,  True,  True,  True,  True,  True,  True,\n",
      "        True,  True,  True,  True,  True,  True,  True,  True,  True,\n",
      "        True,  True,  True,  True,  True,  True,  True,  True,  True,\n",
      "        True,  True,  True,  True,  True,  True,  True,  True,  True,\n",
      "        True]), array([ True,  True,  True,  True,  True,  True,  True,  True,  True,\n",
      "        True,  True,  True,  True,  True,  True,  True,  True,  True,\n",
      "        True,  True,  True,  True,  True,  True,  True,  True,  True,\n",
      "        True,  True,  True,  True,  True,  True,  True,  True,  True,\n",
      "        True,  True,  True,  True,  True,  True,  True,  True,  True,\n",
      "        True,  True,  True,  True,  True,  True,  True,  True,  True,\n",
      "        True,  True,  True,  True,  True,  True,  True,  True,  True,\n",
      "        True,  True,  True,  True,  True,  True,  True,  True,  True,\n",
      "        True,  True,  True,  True,  True,  True,  True,  True,  True,\n",
      "        True,  True,  True,  True,  True,  True,  True,  True,  True,\n",
      "        True,  True,  True,  True,  True,  True,  True,  True,  True,\n",
      "        True])])\n"
     ]
    }
   ],
   "source": [
    "p1 = np.random.rand(100) * 0.5 + 0.5\n",
    "p2 = np.random.rand(100) * 0.5 + 0.5\n",
    "az = np.random.rand(100) * 180*degrees\n",
    "el = np.random.rand(100) * 90*degrees - 45*degrees\n",
    "\n",
    "cond = M.checks.is_diattenuator(give_all=True, verbose=True);\n",
    "print(cond)"
   ]
  },
  {
   "cell_type": "code",
   "execution_count": 24,
   "id": "e933a3cb-2aea-4f29-90f8-921c6f58e975",
   "metadata": {},
   "outputs": [
    {
     "name": "stdout",
     "output_type": "stream",
     "text": [
      "[[0.09375    0.05412659 0.1875    ]\n",
      " [0.05412659 0.03125    0.10825318]\n",
      " [0.1875     0.10825318 0.375     ]]\n"
     ]
    }
   ],
   "source": [
    "az = 15*degrees\n",
    "el = 30*degrees\n",
    "D = np.array([[np.cos(2*az)*np.cos(2*el), np.sin(2*az)*np.cos(2*el), np.sin(2*el)]])\n",
    "m = D.reshape((3,1)) @ D.reshape((1,3))\n",
    "print(0.5*m)"
   ]
  },
  {
   "cell_type": "code",
   "execution_count": null,
   "id": "c6129c71-811e-42e4-8ccf-774694d1697e",
   "metadata": {},
   "outputs": [],
   "source": []
  },
  {
   "cell_type": "code",
   "execution_count": 30,
   "id": "d0ef2645-e977-4af0-a9f5-435efa879ee6",
   "metadata": {},
   "outputs": [
    {
     "name": "stdout",
     "output_type": "stream",
     "text": [
      "1.1102230246251565e-16\n",
      "[ 1.        -0.4330127 -0.25      -0.8660254] \n",
      "\n",
      "1.0000000000000002\n",
      "[1.        0.4330127 0.25      0.8660254] \n",
      "\n",
      "1.788264138744704e-18\n",
      "[  1.           3.09366437 -30.79191938   6.18732875] \n",
      "\n",
      "-1.925929944387236e-33\n",
      "[ 1.00000000e+00 -6.73179683e+14  1.99812849e+16 -5.43151027e+15] \n",
      "\n"
     ]
    }
   ],
   "source": [
    "val, vect = np.linalg.eig(M.M[:,:,0])\n",
    "for ind in range(4):\n",
    "    print(val[ind])\n",
    "    print(vect[:,ind] / vect[0,ind], \"\\n\")"
   ]
  },
  {
   "cell_type": "code",
   "execution_count": 27,
   "id": "e9bacf52-7635-4da7-b13a-27f805f628a1",
   "metadata": {},
   "outputs": [
    {
     "ename": "NameError",
     "evalue": "name 'val' is not defined",
     "output_type": "error",
     "traceback": [
      "\u001b[1;31m---------------------------------------------------------------------------\u001b[0m",
      "\u001b[1;31mNameError\u001b[0m                                 Traceback (most recent call last)",
      "Input \u001b[1;32mIn [27]\u001b[0m, in \u001b[0;36m<cell line: 1>\u001b[1;34m()\u001b[0m\n\u001b[0;32m      1\u001b[0m \u001b[38;5;28;01mfor\u001b[39;00m ind \u001b[38;5;129;01min\u001b[39;00m \u001b[38;5;28mrange\u001b[39m(\u001b[38;5;241m4\u001b[39m):\n\u001b[1;32m----> 2\u001b[0m     \u001b[38;5;28mprint\u001b[39m(\u001b[43mval\u001b[49m[ind])\n\u001b[0;32m      3\u001b[0m     \u001b[38;5;28mprint\u001b[39m(vect[:,ind])\n",
      "\u001b[1;31mNameError\u001b[0m: name 'val' is not defined"
     ]
    }
   ],
   "source": []
  },
  {
   "cell_type": "code",
   "execution_count": 42,
   "id": "30555906-ab69-43cf-a1c7-582acf26e6d7",
   "metadata": {},
   "outputs": [],
   "source": [
    "from py_pol.jones_matrix import Jones_matrix, Jones_vector"
   ]
  },
  {
   "cell_type": "code",
   "execution_count": 39,
   "id": "c4514eb7-b5c4-456a-b33a-95eebe572f14",
   "metadata": {},
   "outputs": [
    {
     "name": "stdout",
     "output_type": "stream",
     "text": [
      "J = \n",
      "[+1.000 +0.000]   [+0.550 +0.350]   [+0.300 +0.000]   [+0.550 -0.150]   [+0.600 -0.000]   \n",
      "[+0.000 +0.100]   [+0.350 +0.550]   [+0.000 +0.800]   [-0.150 +0.550]   [-0.000 +0.500]   \n",
      "\n",
      "(2, 2, 5)\n",
      "(5, 2, 2)\n",
      "[[3.000000e-01+0.j 1.000000e+00+0.j]\n",
      " [3.061617e-17+0.j 8.000000e-01+0.j]]\n"
     ]
    }
   ],
   "source": [
    "J = Jones_matrix().diattenuator_linear(p1=np.linspace(1, 0.6, 5), p2=np.linspace(0.1, 0.5, 5), azimuth=np.linspace(0, 180*degrees, 5))\n",
    "print(J)\n",
    "print(J.M.shape)\n",
    "\n",
    "J2 = J.M\n",
    "J2[0,1,2] = 1\n",
    "J2 = np.moveaxis(J2, -1, 0)\n",
    "print(J2.shape)\n",
    "print(J2[2,:,:])"
   ]
  },
  {
   "cell_type": "code",
   "execution_count": 51,
   "id": "82f7f486-9640-4a36-8fe3-93556b51ee68",
   "metadata": {},
   "outputs": [
    {
     "name": "stdout",
     "output_type": "stream",
     "text": [
      "The eigenvectors of J are:\n",
      "  e1x\n",
      "[-0.61237244-0.j]\n",
      "  e1y\n",
      "[0.35355339+0.70710678j]\n",
      "  e2x\n",
      "[-0.79056942+0.j]\n",
      "  e2y\n",
      "[-0.27386128-0.54772256j]\n",
      "\n",
      "The azimuth and ellipticity angles of J e1 are (deg.):\n",
      "  Azimuth (deg.)\n",
      "120.00000000000001\n",
      "  Ellipticity angle (deg.)\n",
      "-29.99999999999999\n",
      "\n",
      "The azimuth and ellipticity angles of J e2 are (deg.):\n",
      "  Azimuth (deg.)\n",
      "30.00000000000002\n",
      "  Ellipticity angle (deg.)\n",
      "29.99999999999998\n",
      "\n",
      "E = \n",
      "[+0.791 + +0.000j]   \n",
      "[+0.274 + +0.548j]   \n",
      "\n"
     ]
    }
   ],
   "source": [
    "az = 30*degrees\n",
    "el = 30*degrees\n",
    "J = Jones_matrix().diattenuator_azimuth_ellipticity(p1=1, p2=0, azimuth=az, ellipticity=el)\n",
    "E1, E2 = J.parameters.eigenstates(verbose=True);\n",
    "E1.parameters.azimuth_ellipticity(verbose=True)\n",
    "E2.parameters.azimuth_ellipticity(verbose=True)\n",
    "\n",
    "E = Jones_vector().general_azimuth_ellipticity(azimuth=az, ellipticity=el)\n",
    "print(E.remove_global_phase())"
   ]
  },
  {
   "cell_type": "code",
   "execution_count": 54,
   "id": "26660e03-be86-4264-9d34-b11e79d84600",
   "metadata": {},
   "outputs": [
    {
     "name": "stdout",
     "output_type": "stream",
     "text": [
      "The azimuth of S is (deg):\n",
      "120.00000000000001\n",
      "The mean value is 120.00000000000001 +- 0.0\n",
      "\n",
      "The ellipticity angle of S is (deg):\n",
      "-29.99999999999999\n",
      "\n",
      "The azimuth of S is (deg):\n",
      "30.000000000000004\n",
      "The mean value is 30.000000000000004 +- 0.0\n",
      "\n",
      "The ellipticity angle of S is (deg):\n",
      "29.99999999999999\n",
      "\n"
     ]
    },
    {
     "data": {
      "text/plain": [
       "(0.5235987755982989, 0.5235987755982987)"
      ]
     },
     "execution_count": 54,
     "metadata": {},
     "output_type": "execute_result"
    }
   ],
   "source": [
    "S1 = Stokes().from_Jones(E1)\n",
    "S1.parameters.azimuth_ellipticity(verbose=True)\n",
    "\n",
    "S2 = Stokes().from_Jones(E2)\n",
    "S2.parameters.azimuth_ellipticity(verbose=True)"
   ]
  },
  {
   "cell_type": "code",
   "execution_count": null,
   "id": "4d670a7c-a39f-4812-bf9e-5187dfcd8b1f",
   "metadata": {},
   "outputs": [],
   "source": []
  }
 ],
 "metadata": {
  "kernelspec": {
   "display_name": "Python 3 (ipykernel)",
   "language": "python",
   "name": "python3"
  },
  "language_info": {
   "codemirror_mode": {
    "name": "ipython",
    "version": 3
   },
   "file_extension": ".py",
   "mimetype": "text/x-python",
   "name": "python",
   "nbconvert_exporter": "python",
   "pygments_lexer": "ipython3",
   "version": "3.8.12"
  }
 },
 "nbformat": 4,
 "nbformat_minor": 5
}
