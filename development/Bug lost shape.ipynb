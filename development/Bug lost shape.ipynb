{
 "cells": [
  {
   "cell_type": "code",
   "execution_count": 3,
   "id": "88bada0b-a87c-4883-b2b5-855b0f1f9f4e",
   "metadata": {},
   "outputs": [],
   "source": [
    "from py_pol.mueller import Mueller, np"
   ]
  },
  {
   "cell_type": "code",
   "execution_count": 8,
   "id": "bbd91f80-07d1-49df-905e-97b2fc2e7df0",
   "metadata": {},
   "outputs": [
    {
     "name": "stdout",
     "output_type": "stream",
     "text": [
      "[200, 300]\n",
      "[60000]\n"
     ]
    }
   ],
   "source": [
    "M = Mueller().from_matrix(np.random.rand(4,4,200,300))\n",
    "print(M.shape)\n",
    "M = M * 5\n",
    "# M = M * np.array([5])\n",
    "print(M.shape)"
   ]
  },
  {
   "cell_type": "code",
   "execution_count": null,
   "id": "41a07504-5ae9-4840-a750-6c24b25b72f3",
   "metadata": {},
   "outputs": [],
   "source": []
  }
 ],
 "metadata": {
  "kernelspec": {
   "display_name": "Python 3 (ipykernel)",
   "language": "python",
   "name": "python3"
  },
  "language_info": {
   "codemirror_mode": {
    "name": "ipython",
    "version": 3
   },
   "file_extension": ".py",
   "mimetype": "text/x-python",
   "name": "python",
   "nbconvert_exporter": "python",
   "pygments_lexer": "ipython3",
   "version": "3.8.12"
  }
 },
 "nbformat": 4,
 "nbformat_minor": 5
}
