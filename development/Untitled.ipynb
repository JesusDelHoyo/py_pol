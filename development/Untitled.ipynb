{
 "cells": [
  {
   "cell_type": "code",
   "execution_count": 2,
   "metadata": {},
   "outputs": [],
   "source": [
    "from py_pol import degrees, np\n",
    "from py_pol.mueller import Mueller"
   ]
  },
  {
   "cell_type": "code",
   "execution_count": 10,
   "metadata": {},
   "outputs": [
    {
     "name": "stdout",
     "output_type": "stream",
     "text": [
      "M = \n",
      "[+0.340 -0.026 +0.148 +0.260]   \n",
      "[-0.026 +0.161 -0.008 -0.014]   \n",
      "[+0.148 -0.008 +0.204 +0.077]   \n",
      "[+0.260 -0.014 +0.077 +0.295]   \n",
      "\n"
     ]
    }
   ],
   "source": [
    "M = Mueller().diattenuator_azimuth_ellipticity(azimuth=50*degrees, ellipticity=30*degrees, p1=0.8, p2=0.2)\n",
    "print(M)"
   ]
  },
  {
   "cell_type": "code",
   "execution_count": 11,
   "metadata": {},
   "outputs": [
    {
     "name": "stdout",
     "output_type": "stream",
     "text": [
      "Covariant of M = \n",
      "[+0.112 + +0.000j +0.035 + +0.062j +0.035 + -0.062j +0.125 + +0.000j]   \n",
      "[+0.035 + -0.062j +0.045 + +0.000j -0.023 + -0.038j +0.039 + -0.068j]   \n",
      "[+0.035 + +0.062j -0.023 + +0.038j +0.045 + +0.000j +0.039 + +0.068j]   \n",
      "[+0.125 + +0.000j +0.039 + +0.068j +0.039 + -0.068j +0.138 + +0.000j]   \n",
      "\n"
     ]
    }
   ],
   "source": [
    "cov = M.covariance_matrix(keep=True)\n",
    "print(cov)"
   ]
  },
  {
   "cell_type": "code",
   "execution_count": 12,
   "metadata": {},
   "outputs": [
    {
     "name": "stdout",
     "output_type": "stream",
     "text": [
      "[[ 3.40000000e-01+2.76618222e-18j]\n",
      " [-3.10016538e-17+2.37911729e-17j]\n",
      " [-6.36405741e-18-1.60948793e-17j]\n",
      " [ 1.71749368e-17-6.18226114e-18j]]\n",
      "[[[ 0.57475216-6.29967255e-17j]\n",
      "  [-0.53203226+5.85487426e-02j]\n",
      "  [ 0.07654304-1.90825263e-01j]\n",
      "  [ 0.01573614+1.60311315e-01j]]\n",
      "\n",
      " [[ 0.17913822-3.15063019e-01j]\n",
      "  [ 0.69904529+0.00000000e+00j]\n",
      "  [ 0.81540336+0.00000000e+00j]\n",
      "  [-0.56296211-2.54313883e-02j]]\n",
      "\n",
      " [[ 0.17913822+3.15063019e-01j]\n",
      "  [ 0.35652426-8.74929264e-02j]\n",
      "  [ 0.24985813-4.58081549e-01j]\n",
      "  [ 0.66008084+0.00000000e+00j]]\n",
      "\n",
      " [[ 0.63792596+0.00000000e+00j]\n",
      "  [ 0.2261385 -1.97347974e-01j]\n",
      "  [-0.1418625 +2.12481687e-02j]\n",
      "  [-0.05401026+4.66750188e-01j]]]\n"
     ]
    }
   ],
   "source": [
    "val, vect = cov.parameters.eig(values_as_matrix=True,\n",
    "                                               vectors_as_matrix=True,\n",
    "                                               shape=False)\n",
    "print(val)\n",
    "print(vect)"
   ]
  },
  {
   "cell_type": "code",
   "execution_count": 13,
   "metadata": {},
   "outputs": [
    {
     "name": "stdout",
     "output_type": "stream",
     "text": [
      "M is physically realizable:\n",
      "  Physical\n",
      "False\n",
      "  Real elements\n",
      "[ True]\n",
      "  M00 >= 0\n",
      "[ True]\n",
      "  M00 <= 1\n",
      "[ True]\n",
      "  abs(Mij) <= M00\n",
      "[ True]\n",
      "  D <= 1\n",
      "[ True]\n",
      "  P <= 1\n",
      "[ True]\n",
      "  Tmax <= 1\n",
      "[ True]\n",
      "  Recip Tmax <= 1\n",
      "[ True]\n",
      "  Tr(M*M^T) <= 4*M00^2\n",
      "[False]\n",
      "  m cond (D)\n",
      "[ True]\n",
      "  m cond (P)\n",
      "[ True]\n",
      "  Real eigenvalues\n",
      "[False]\n",
      "  Eigenvalues >= 0\n",
      "[False]\n",
      "  Eigenvalues <= 1\n",
      "[ True]\n",
      "\n"
     ]
    },
    {
     "data": {
      "text/plain": [
       "(False,\n",
       " [array([ True]),\n",
       "  array([ True]),\n",
       "  array([ True]),\n",
       "  array([ True]),\n",
       "  array([ True]),\n",
       "  array([ True]),\n",
       "  array([ True]),\n",
       "  array([ True]),\n",
       "  array([False]),\n",
       "  array([ True]),\n",
       "  array([ True]),\n",
       "  array([False]),\n",
       "  array([False]),\n",
       "  array([ True])])"
      ]
     },
     "execution_count": 13,
     "metadata": {},
     "output_type": "execute_result"
    }
   ],
   "source": [
    "M.checks.is_physical(tol=0, give_all=True, verbose=True)"
   ]
  },
  {
   "cell_type": "code",
   "execution_count": 14,
   "metadata": {},
   "outputs": [
    {
     "ename": "TypeError",
     "evalue": "ufunc 'arctan2' not supported for the input types, and the inputs could not be safely coerced to any supported types according to the casting rule ''safe''",
     "output_type": "error",
     "traceback": [
      "\u001b[1;31m---------------------------------------------------------------------------\u001b[0m",
      "\u001b[1;31mTypeError\u001b[0m                                 Traceback (most recent call last)",
      "Cell \u001b[1;32mIn [14], line 1\u001b[0m\n\u001b[1;32m----> 1\u001b[0m Mrep \u001b[39m=\u001b[39m M\u001b[39m.\u001b[39;49manalysis\u001b[39m.\u001b[39;49mfilter_physical_conditions(tol\u001b[39m=\u001b[39;49m\u001b[39m0\u001b[39;49m)\n",
      "File \u001b[1;32md:\\codigo\\py_pol\\py_pol\\mueller.py:5109\u001b[0m, in \u001b[0;36mAnalysis_Mueller.filter_physical_conditions\u001b[1;34m(self, tol, ignore_cond, keep, _counter)\u001b[0m\n\u001b[0;32m   5106\u001b[0m     new_obj\u001b[39m.\u001b[39mfrom_components(comp, shape\u001b[39m=\u001b[39mold_shape)\n\u001b[0;32m   5108\u001b[0m     \u001b[39m# Call again this function to solve all the problems iteratively through recurrence\u001b[39;00m\n\u001b[1;32m-> 5109\u001b[0m     new_obj\u001b[39m.\u001b[39;49manalysis\u001b[39m.\u001b[39;49mfilter_physical_conditions(\n\u001b[0;32m   5110\u001b[0m         tol\u001b[39m=\u001b[39;49mtol,\n\u001b[0;32m   5111\u001b[0m         ignore_cond\u001b[39m=\u001b[39;49mignore_cond,\n\u001b[0;32m   5112\u001b[0m         keep\u001b[39m=\u001b[39;49mkeep,\n\u001b[0;32m   5113\u001b[0m         _counter\u001b[39m=\u001b[39;49m_counter \u001b[39m+\u001b[39;49m \u001b[39m1\u001b[39;49m)\n\u001b[0;32m   5115\u001b[0m \u001b[39mreturn\u001b[39;00m new_obj\n",
      "File \u001b[1;32md:\\codigo\\py_pol\\py_pol\\mueller.py:5098\u001b[0m, in \u001b[0;36mAnalysis_Mueller.filter_physical_conditions\u001b[1;34m(self, tol, ignore_cond, keep, _counter)\u001b[0m\n\u001b[0;32m   5096\u001b[0m H\u001b[39m.\u001b[39mfrom_matrix(vect)\n\u001b[0;32m   5097\u001b[0m Ht\u001b[39m.\u001b[39mfrom_matrix(np\u001b[39m.\u001b[39mconj(np\u001b[39m.\u001b[39mtranspose(vect, axes\u001b[39m=\u001b[39m(\u001b[39m1\u001b[39m, \u001b[39m0\u001b[39m, \u001b[39m2\u001b[39m))))\n\u001b[1;32m-> 5098\u001b[0m result \u001b[39m=\u001b[39m H \u001b[39m*\u001b[39;49m diag \u001b[39m*\u001b[39m Ht\n\u001b[0;32m   5099\u001b[0m result\u001b[39m.\u001b[39mfrom_covariance(result)\n\u001b[0;32m   5100\u001b[0m comp2 \u001b[39m=\u001b[39m result\u001b[39m.\u001b[39mparameters\u001b[39m.\u001b[39mcomponents(shape\u001b[39m=\u001b[39m\u001b[39mFalse\u001b[39;00m,\n\u001b[0;32m   5101\u001b[0m                                      out_number\u001b[39m=\u001b[39m\u001b[39mFalse\u001b[39;00m)\n",
      "File \u001b[1;32md:\\codigo\\py_pol\\py_pol\\mueller.py:405\u001b[0m, in \u001b[0;36mMueller.__mul__\u001b[1;34m(self, other)\u001b[0m\n\u001b[0;32m    403\u001b[0m     \u001b[39melse\u001b[39;00m:\n\u001b[0;32m    404\u001b[0m         other_Jones \u001b[39m=\u001b[39m Jones_vector()\u001b[39m.\u001b[39mfrom_Stokes(other)\n\u001b[1;32m--> 405\u001b[0m self_Jones \u001b[39m=\u001b[39m Jones_matrix()\u001b[39m.\u001b[39;49mfrom_Mueller(\u001b[39mself\u001b[39;49m)\n\u001b[0;32m    407\u001b[0m \u001b[39m# Prepare variables\u001b[39;00m\n\u001b[0;32m    408\u001b[0m new_self, new_other \u001b[39m=\u001b[39m expand_objects([\u001b[39mself\u001b[39m, new_other], copy\u001b[39m=\u001b[39m\u001b[39mTrue\u001b[39;00m)\n",
      "File \u001b[1;32md:\\codigo\\py_pol\\py_pol\\jones_matrix.py:1108\u001b[0m, in \u001b[0;36mJones_matrix.from_Mueller\u001b[1;34m(self, M, length, shape_like, shape)\u001b[0m\n\u001b[0;32m   1106\u001b[0m \u001b[39m# Calculate the complex phases\u001b[39;00m\n\u001b[0;32m   1107\u001b[0m phase_00 \u001b[39m=\u001b[39m M\u001b[39m.\u001b[39mparameters\u001b[39m.\u001b[39mglobal_phase(shape\u001b[39m=\u001b[39m\u001b[39mFalse\u001b[39;00m, give_nan\u001b[39m=\u001b[39m\u001b[39mFalse\u001b[39;00m)\n\u001b[1;32m-> 1108\u001b[0m phase_01 \u001b[39m=\u001b[39m np\u001b[39m.\u001b[39;49marctan2(\u001b[39m-\u001b[39;49mM03 \u001b[39m-\u001b[39;49m M13, M02 \u001b[39m+\u001b[39;49m M12) \u001b[39m+\u001b[39m phase_00\n\u001b[0;32m   1109\u001b[0m phase_10 \u001b[39m=\u001b[39m np\u001b[39m.\u001b[39marctan2(M30 \u001b[39m+\u001b[39m M31, M20 \u001b[39m+\u001b[39m M21) \u001b[39m+\u001b[39m phase_00\n\u001b[0;32m   1110\u001b[0m phase_11 \u001b[39m=\u001b[39m np\u001b[39m.\u001b[39marctan2(M32 \u001b[39m+\u001b[39m M23, M22 \u001b[39m+\u001b[39m M33) \u001b[39m+\u001b[39m phase_00\n",
      "\u001b[1;31mTypeError\u001b[0m: ufunc 'arctan2' not supported for the input types, and the inputs could not be safely coerced to any supported types according to the casting rule ''safe''"
     ]
    }
   ],
   "source": [
    "Mrep = M.analysis.filter_physical_conditions(tol=0)"
   ]
  },
  {
   "cell_type": "code",
   "execution_count": 18,
   "metadata": {},
   "outputs": [
    {
     "name": "stdout",
     "output_type": "stream",
     "text": [
      "[ True False False False False]\n"
     ]
    }
   ],
   "source": [
    "a = np.random.rand(5) > 0.5\n",
    "print(a)"
   ]
  },
  {
   "cell_type": "code",
   "execution_count": 21,
   "metadata": {},
   "outputs": [
    {
     "name": "stdout",
     "output_type": "stream",
     "text": [
      "[False  True  True  True  True]\n"
     ]
    }
   ],
   "source": [
    "# print(not a)\n",
    "print(np.logical_not(a))"
   ]
  },
  {
   "cell_type": "code",
   "execution_count": 1,
   "metadata": {},
   "outputs": [
    {
     "name": "stderr",
     "output_type": "stream",
     "text": [
      "d:\\codigo\\py_pol\\py_pol\\jones_vector.py:215: SyntaxWarning: \"is\" with a literal. Did you mean \"==\"?\n",
      "  if other.type is 'Jones_vector':\n",
      "d:\\codigo\\py_pol\\py_pol\\jones_vector.py:235: SyntaxWarning: \"is\" with a literal. Did you mean \"==\"?\n",
      "  if other.type is 'Jones_vector':\n",
      "d:\\codigo\\py_pol\\py_pol\\jones_vector.py:867: SyntaxWarning: \"is not\" with a literal. Did you mean \"!=\"?\n",
      "  if global_phase is not 0:\n",
      "d:\\codigo\\py_pol\\py_pol\\jones_vector.py:1173: SyntaxWarning: \"is not\" with a literal. Did you mean \"!=\"?\n",
      "  if global_phase is not 0:\n",
      "d:\\codigo\\py_pol\\py_pol\\utils.py:175: SyntaxWarning: \"is\" with a literal. Did you mean \"==\"?\n",
      "  if new_obj._type is 'Jones_vector':\n",
      "d:\\codigo\\py_pol\\py_pol\\utils.py:181: SyntaxWarning: \"is\" with a literal. Did you mean \"==\"?\n",
      "  elif new_obj._type is 'Jones_matrix':\n"
     ]
    }
   ],
   "source": [
    "from py_pol.jones_vector import Jones_vector, np"
   ]
  },
  {
   "cell_type": "code",
   "execution_count": 2,
   "metadata": {},
   "outputs": [],
   "source": [
    "E = Jones_vector().linear_light(np.ones((3,4,5)))"
   ]
  },
  {
   "cell_type": "code",
   "execution_count": 3,
   "metadata": {},
   "outputs": [
    {
     "name": "stdout",
     "output_type": "stream",
     "text": [
      "azimuth (60,)\n",
      "(60,) (60,) (60,) (60,)\n"
     ]
    },
    {
     "data": {
      "text/plain": [
       "(array([[[1., 1., 1., 1., 1.],\n",
       "         [1., 1., 1., 1., 1.],\n",
       "         [1., 1., 1., 1., 1.],\n",
       "         [1., 1., 1., 1., 1.]],\n",
       " \n",
       "        [[1., 1., 1., 1., 1.],\n",
       "         [1., 1., 1., 1., 1.],\n",
       "         [1., 1., 1., 1., 1.],\n",
       "         [1., 1., 1., 1., 1.]],\n",
       " \n",
       "        [[1., 1., 1., 1., 1.],\n",
       "         [1., 1., 1., 1., 1.],\n",
       "         [1., 1., 1., 1., 1.],\n",
       "         [1., 1., 1., 1., 1.]]]),\n",
       " array([[[0., 0., 0., 0., 0.],\n",
       "         [0., 0., 0., 0., 0.],\n",
       "         [0., 0., 0., 0., 0.],\n",
       "         [0., 0., 0., 0., 0.]],\n",
       " \n",
       "        [[0., 0., 0., 0., 0.],\n",
       "         [0., 0., 0., 0., 0.],\n",
       "         [0., 0., 0., 0., 0.],\n",
       "         [0., 0., 0., 0., 0.]],\n",
       " \n",
       "        [[0., 0., 0., 0., 0.],\n",
       "         [0., 0., 0., 0., 0.],\n",
       "         [0., 0., 0., 0., 0.],\n",
       "         [0., 0., 0., 0., 0.]]]))"
      ]
     },
     "execution_count": 3,
     "metadata": {},
     "output_type": "execute_result"
    }
   ],
   "source": [
    "E.parameters.ellipse_axes()"
   ]
  },
  {
   "cell_type": "code",
   "execution_count": 5,
   "metadata": {},
   "outputs": [
    {
     "data": {
      "text/plain": [
       "True"
      ]
     },
     "execution_count": 5,
     "metadata": {},
     "output_type": "execute_result"
    }
   ],
   "source": [
    "False == False"
   ]
  },
  {
   "cell_type": "code",
   "execution_count": null,
   "metadata": {},
   "outputs": [],
   "source": []
  }
 ],
 "metadata": {
  "kernelspec": {
   "display_name": "Python 3",
   "language": "python",
   "name": "python3"
  },
  "language_info": {
   "codemirror_mode": {
    "name": "ipython",
    "version": 3
   },
   "file_extension": ".py",
   "mimetype": "text/x-python",
   "name": "python",
   "nbconvert_exporter": "python",
   "pygments_lexer": "ipython3",
   "version": "3.10.7"
  },
  "toc": {
   "nav_menu": {},
   "number_sections": true,
   "sideBar": true,
   "skip_h1_title": false,
   "toc_cell": false,
   "toc_position": {},
   "toc_section_display": "block",
   "toc_window_display": false
  },
  "varInspector": {
   "cols": {
    "lenName": 16,
    "lenType": 16,
    "lenVar": 40
   },
   "kernels_config": {
    "python": {
     "delete_cmd_postfix": "",
     "delete_cmd_prefix": "del ",
     "library": "var_list.py",
     "varRefreshCmd": "print(var_dic_list())"
    },
    "r": {
     "delete_cmd_postfix": ") ",
     "delete_cmd_prefix": "rm(",
     "library": "var_list.r",
     "varRefreshCmd": "cat(var_dic_list()) "
    }
   },
   "types_to_exclude": [
    "module",
    "function",
    "builtin_function_or_method",
    "instance",
    "_Feature"
   ],
   "window_display": false
  },
  "vscode": {
   "interpreter": {
    "hash": "26de051ba29f2982a8de78e945f0abaf191376122a1563185a90213a26c5da77"
   }
  }
 },
 "nbformat": 4,
 "nbformat_minor": 4
}
