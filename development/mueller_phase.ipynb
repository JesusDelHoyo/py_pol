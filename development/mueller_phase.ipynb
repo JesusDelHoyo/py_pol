{
 "cells": [
  {
   "attachments": {},
   "cell_type": "markdown",
   "metadata": {},
   "source": [
    "# Global phase in Mueller"
   ]
  },
  {
   "cell_type": "code",
   "execution_count": 1,
   "metadata": {},
   "outputs": [],
   "source": [
    "%load_ext autoreload\n",
    "%autoreload 2\n",
    "from py_pol.mueller import np, degrees, Mueller, Stokes, Jones_matrix, Jones_vector"
   ]
  },
  {
   "cell_type": "code",
   "execution_count": 2,
   "metadata": {},
   "outputs": [],
   "source": [
    "# Auxiliar functions\n",
    "def random_Jones_vector(N):\n",
    "    az = np.random.rand(N) * 180*degrees\n",
    "    el = np.random.rand(N) * 90*degrees - 45*degrees\n",
    "    phase = np.random.rand(N) * 360*degrees\n",
    "    return Jones_vector().general_azimuth_ellipticity(azimuth=az, ellipticity=el, global_phase=phase)\n",
    "\n",
    "def random_Jones_diattenuator(N):\n",
    "    p1 = np.random.rand(N) * 0.5 + 0.5\n",
    "    p2 = np.random.rand(N) * 0.5\n",
    "    az = np.random.rand(N) * 180*degrees\n",
    "    el = np.random.rand(N) * 90*degrees - 45*degrees\n",
    "    return Jones_matrix().diattenuator_azimuth_ellipticity(p1=p1, p2=p2, azimuth=az, ellipticity=el)\n",
    "\n",
    "def random_Jones_retarder(N):\n",
    "    R = np.random.rand(N) * 180*degrees\n",
    "    az = np.random.rand(N) * 180*degrees\n",
    "    el = np.random.rand(N) * 90*degrees - 45*degrees\n",
    "    phase = np.random.rand(N) * 360*degrees\n",
    "    return Jones_matrix().retarder_azimuth_ellipticity(R=R, azimuth=az, ellipticity=el, global_phase=phase)\n",
    "\n",
    "def random_Jones_matrix(N):\n",
    "    Jp = random_Jones_diattenuator(N)\n",
    "    Jr = random_Jones_retarder(N)\n",
    "    return Jp * Jr"
   ]
  },
  {
   "cell_type": "code",
   "execution_count": 4,
   "metadata": {},
   "outputs": [
    {
     "name": "stdout",
     "output_type": "stream",
     "text": [
      "[0. 0. 0. 0. 0. 0. 0. 0. 0. 0.]\n",
      "[0. 0. 0. 0. 0. 0. 0. 0. 0. 0.]\n",
      "[0. 0. 0. 0. 0. 0. 0. 0. 0. 0.]\n",
      "[ 0.00000000e+00  0.00000000e+00  8.88178420e-16  4.44089210e-16\n",
      "  0.00000000e+00 -8.88178420e-16  0.00000000e+00 -7.77156117e-16\n",
      "  8.88178420e-16  0.00000000e+00]\n"
     ]
    }
   ],
   "source": [
    "# Ej 1: Pure Jones\n",
    "N = 10\n",
    "E1 = random_Jones_vector(N)\n",
    "E1.remove_global_phase()\n",
    "J1 = random_Jones_matrix(N)\n",
    "J1.remove_global_phase()\n",
    "J2 = random_Jones_matrix(N)\n",
    "Ef = J2 * J1 * E1\n",
    "phase_Jones = Ef.parameters.global_phase()\n",
    "\n",
    "S1 = Stokes().from_Jones(E1)\n",
    "M1 = Mueller().from_Jones(J1)\n",
    "M2 = Mueller().from_Jones(J2)\n",
    "Sf = M2 * M1 * S1\n",
    "phase_Mueller = Sf.parameters.global_phase()\n",
    "\n",
    "print(E1.parameters.global_phase() - S1.parameters.global_phase())\n",
    "print(J1.parameters.global_phase() - M1.parameters.global_phase())\n",
    "print(J2.parameters.global_phase() - M2.parameters.global_phase())\n",
    "\n",
    "print(Sf.parameters.global_phase() - Ef.parameters.global_phase())"
   ]
  },
  {
   "cell_type": "code",
   "execution_count": 15,
   "metadata": {},
   "outputs": [
    {
     "name": "stdout",
     "output_type": "stream",
     "text": [
      "[ 0.00000000e+00  0.00000000e+00  0.00000000e+00  0.00000000e+00\n",
      "  0.00000000e+00  0.00000000e+00  0.00000000e+00 -2.22044605e-16\n",
      "  0.00000000e+00  0.00000000e+00]\n",
      "[0.00000000e+00 0.00000000e+00 0.00000000e+00 0.00000000e+00\n",
      " 0.00000000e+00 0.00000000e+00 1.11022302e-16 0.00000000e+00\n",
      " 0.00000000e+00 0.00000000e+00]\n"
     ]
    }
   ],
   "source": [
    "E2 = Jones_vector().from_Stokes(S1)\n",
    "J1b = Jones_matrix().from_Mueller(M1)\n",
    "\n",
    "print(E2.parameters.global_phase() - E1.parameters.global_phase())\n",
    "print(J1b.parameters.global_phase() - J1.parameters.global_phase())"
   ]
  },
  {
   "cell_type": "code",
   "execution_count": null,
   "metadata": {},
   "outputs": [],
   "source": []
  }
 ],
 "metadata": {
  "kernelspec": {
   "display_name": "Python 3",
   "language": "python",
   "name": "python3"
  },
  "language_info": {
   "codemirror_mode": {
    "name": "ipython",
    "version": 3
   },
   "file_extension": ".py",
   "mimetype": "text/x-python",
   "name": "python",
   "nbconvert_exporter": "python",
   "pygments_lexer": "ipython3",
   "version": "3.10.7"
  },
  "orig_nbformat": 4,
  "vscode": {
   "interpreter": {
    "hash": "26de051ba29f2982a8de78e945f0abaf191376122a1563185a90213a26c5da77"
   }
  }
 },
 "nbformat": 4,
 "nbformat_minor": 2
}
