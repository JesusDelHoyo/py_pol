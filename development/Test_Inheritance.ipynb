{
 "cells": [
  {
   "cell_type": "code",
   "execution_count": 1,
   "id": "03785ee6-d469-4639-ae8e-2053d70c8d3c",
   "metadata": {},
   "outputs": [],
   "source": [
    "%load_ext autoreload\n",
    "%autoreload 2"
   ]
  },
  {
   "cell_type": "code",
   "execution_count": 2,
   "id": "c2b19997-aa9a-49d8-b4b4-2010161add3b",
   "metadata": {},
   "outputs": [],
   "source": [
    "import warnings\n",
    "warnings.filterwarnings(\"ignore\")"
   ]
  },
  {
   "cell_type": "code",
   "execution_count": 3,
   "id": "9bfbf9d7-5380-4625-9703-4e9ddcb26ec7",
   "metadata": {},
   "outputs": [],
   "source": [
    "from py_pol.jones_matrix import Jones_matrix, Jones_vector\n",
    "from py_pol.mueller import Mueller, Stokes, np, degrees\n",
    "from py_pol.py_pol import set_option, options\n",
    "global options"
   ]
  },
  {
   "cell_type": "code",
   "execution_count": 4,
   "id": "13042ba6-8825-4959-a552-f75d5b9c750f",
   "metadata": {},
   "outputs": [
    {
     "name": "stdout",
     "output_type": "stream",
     "text": [
      "E = \n",
      "[+0.998]   [+0.902]   [+0.971]   [+0.996]   [+0.993]   [+0.930]   [+0.889]   [+0.969]   [+0.992]   [+0.859]   \n",
      "[+0.057]   [+0.431]   [+0.238]   [+0.093]   [+0.120]   [+0.367]   [+0.458]   [+0.246]   [+0.124]   [+0.512]   \n",
      "\n"
     ]
    }
   ],
   "source": [
    "J = Jones_vector().linear_light(azimuth=np.random.rand(10))\n",
    "print(J)"
   ]
  },
  {
   "cell_type": "code",
   "execution_count": 5,
   "id": "efff7556-81bd-4fe3-ab52-0be01c8e205f",
   "metadata": {},
   "outputs": [
    {
     "name": "stdout",
     "output_type": "stream",
     "text": [
      "[array([[0.99838113],\n",
      "       [0.05687815]]), array([[0.90216191],\n",
      "       [0.43139761]]), array([[0.97119965],\n",
      "       [0.23826714]]), array([[0.99564184],\n",
      "       [0.09325945]]), array([[0.99281625],\n",
      "       [0.11964905]]), array([[0.93006002],\n",
      "       [0.36740763]]), array([[0.8889208 ],\n",
      "       [0.45806093]]), array([[0.96925102],\n",
      "       [0.2460741 ]]), array([[0.99222041],\n",
      "       [0.12449357]]), array([[0.85885135],\n",
      "       [0.51222491]])]\n",
      "[[0.99838113]\n",
      " [0.05687815]]\n"
     ]
    }
   ],
   "source": [
    "l = J.get_list()\n",
    "print(l)\n",
    "print(l[0])"
   ]
  },
  {
   "cell_type": "code",
   "execution_count": 6,
   "id": "01d61220-9056-4fe3-ba4b-ecf77740ef17",
   "metadata": {},
   "outputs": [
    {
     "name": "stdout",
     "output_type": "stream",
     "text": [
      "E = \n",
      "[+0.859]   [+0.992]   [+0.969]   [+0.889]   [+0.930]   [+0.993]   [+0.996]   [+0.971]   [+0.902]   [+0.998]   \n",
      "[+0.512]   [+0.124]   [+0.246]   [+0.458]   [+0.367]   [+0.120]   [+0.093]   [+0.238]   [+0.431]   [+0.057]   \n",
      "\n"
     ]
    }
   ],
   "source": [
    "print(J.flip(keep=True))"
   ]
  },
  {
   "cell_type": "code",
   "execution_count": 7,
   "id": "f0cff59e-1a4c-4b87-a112-aa6b168df07e",
   "metadata": {},
   "outputs": [
    {
     "name": "stdout",
     "output_type": "stream",
     "text": [
      "E = \n",
      "[+0.540]   [+0.540]   [+0.540]   [+0.540]   [+0.540]   [+0.540]   [+0.540]   [+0.540]   [+0.540]   [+0.540]   \n",
      "[+0.841]   [+0.841]   [+0.841]   [+0.841]   [+0.841]   [+0.841]   [+0.841]   [+0.841]   [+0.841]   [+0.841]   \n",
      "\n"
     ]
    }
   ],
   "source": [
    "J = Jones_vector().linear_light(azimuth=1)\n",
    "print(J.stretch(10))"
   ]
  },
  {
   "cell_type": "code",
   "execution_count": 8,
   "id": "58ef4dfd-72c3-4b10-9ee9-9415d917ac44",
   "metadata": {},
   "outputs": [
    {
     "name": "stdout",
     "output_type": "stream",
     "text": [
      "E = \n",
      "[+0.540]   [+0.540]   [+0.540]   [+0.540]   [+0.540]   [+0.540]   [+0.540]   [+0.540]   [+0.540]   [+0.540]   \n",
      "[+0.841]   [+0.841]   [+0.841]   [+0.841]   [+0.841]   [+0.841]   [+0.841]   [+0.841]   [+0.841]   [+0.841]   \n",
      " E = \n",
      "[+1.000]   \n",
      "[+0.000]   \n",
      "\n"
     ]
    }
   ],
   "source": [
    "J2 = J.copy()\n",
    "J2.linear_light(azimuth=0)\n",
    "print(J, J2)"
   ]
  },
  {
   "cell_type": "code",
   "execution_count": 9,
   "id": "ee826488-d7be-47f2-aa44-6c52cd836130",
   "metadata": {},
   "outputs": [],
   "source": [
    "S = Stokes()\n",
    "M = Mueller()"
   ]
  },
  {
   "cell_type": "code",
   "execution_count": 10,
   "id": "812c393f-f140-45f2-8fb2-bd108be0c846",
   "metadata": {},
   "outputs": [
    {
     "data": {
      "text/plain": [
       "S = \n",
       "[+0.464 \b]   [+0.140 \b]   [+0.151 \b]   [+0.167 \b]   [+0.148 \b]   [+0.351 \b]   [+0.986 \b]   [+0.481 \b]   [+0.875 \b]   [+0.724 \b]   \n",
       "[+0.784 \b]   [+0.619 \b]   [+0.173 \b]   [+0.021 \b]   [+0.479 \b]   [+0.222 \b]   [+0.401 \b]   [+0.262 \b]   [+0.766 \b]   [+0.061 \b]   \n",
       "[+0.117 \b]   [+0.649 \b]   [+0.678 \b]   [+0.755 \b]   [+0.188 \b]   [+0.716 \b]   [+0.991 \b]   [+0.187 \b]   [+0.003 \b]   [+0.726 \b]   \n",
       "[+0.867 \b]   [+0.264 \b]   [+0.128 \b]   [+0.116 \b]   [+0.552 \b]   [+0.177 \b]   [+0.538 \b]   [+0.119 \b]   [+0.347 \b]   [+0.766 \b]   "
      ]
     },
     "execution_count": 10,
     "metadata": {},
     "output_type": "execute_result"
    }
   ],
   "source": [
    "S.from_components(np.random.rand(4,10))"
   ]
  },
  {
   "cell_type": "code",
   "execution_count": 11,
   "id": "832d30d8-8157-49d4-a740-e06e88017853",
   "metadata": {},
   "outputs": [
    {
     "data": {
      "text/plain": [
       "E = \n",
       "[+0.854 \b]   [+0.613 \b]   [+0.875 \b]   [+0.837 \b]   [+0.591 \b]   [+0.041 \b]   [+0.112 \b]   [+0.793 \b]   \n",
       "[+0.000 \b]   [+0.000 \b]   [+0.000 \b]   [+0.000 \b]   [+0.000 \b]   [+0.000 \b]   [+0.000 \b]   [+0.000 \b]   "
      ]
     },
     "execution_count": 11,
     "metadata": {},
     "output_type": "execute_result"
    }
   ],
   "source": [
    "J.from_components([np.random.rand(8), 1j])"
   ]
  },
  {
   "cell_type": "code",
   "execution_count": 12,
   "id": "f7f60b8d-f2bd-4783-88bf-1a7531fdc13f",
   "metadata": {},
   "outputs": [
    {
     "data": {
      "text/plain": [
       "E Ex = \n",
       "[[0.85368694+0.j 0.61289797+0.j]\n",
       " [0.87474917+0.j 0.83707737+0.j]\n",
       " [0.59128115+0.j 0.04050449+0.j]\n",
       " [0.11243656+0.j 0.7928237 +0.j]]\n",
       "E Ey = \n",
       "[[0.+1.j 0.+1.j]\n",
       " [0.+1.j 0.+1.j]\n",
       " [0.+1.j 0.+1.j]\n",
       " [0.+1.j 0.+1.j]]"
      ]
     },
     "execution_count": 12,
     "metadata": {},
     "output_type": "execute_result"
    }
   ],
   "source": [
    "J.reshape((4,2))"
   ]
  },
  {
   "cell_type": "code",
   "execution_count": 13,
   "id": "b99c049b-0e67-4a98-b21b-4c5936947dad",
   "metadata": {},
   "outputs": [
    {
     "data": {
      "text/plain": [
       "E Ex = \n",
       "[[0.85368694+0.j 0.61289797+0.j 0.87474917+0.j 0.83707737+0.j]\n",
       " [0.59128115+0.j 0.04050449+0.j 0.11243656+0.j 0.7928237 +0.j]]\n",
       "E Ey = \n",
       "[[0.+1.j 0.+1.j 0.+1.j 0.+1.j]\n",
       " [0.+1.j 0.+1.j 0.+1.j 0.+1.j]]"
      ]
     },
     "execution_count": 13,
     "metadata": {},
     "output_type": "execute_result"
    }
   ],
   "source": [
    "J.shape_like(np.zeros((2,4)))"
   ]
  },
  {
   "cell_type": "code",
   "execution_count": 14,
   "id": "7e65191f-5e5f-471e-b334-f21351787466",
   "metadata": {},
   "outputs": [
    {
     "data": {
      "text/plain": [
       "E = \n",
       "[+0.854 \b]   [+0.613 \b]   [+0.875 \b]   [+0.837 \b]   [+0.591 \b]   [+0.041 \b]   [+0.112 \b]   [+0.793 \b]   \n",
       "[+0.000 \b]   [+0.000 \b]   [+0.000 \b]   [+0.000 \b]   [+0.000 \b]   [+0.000 \b]   [+0.000 \b]   [+0.000 \b]   "
      ]
     },
     "execution_count": 14,
     "metadata": {},
     "output_type": "execute_result"
    }
   ],
   "source": [
    "J.flatten()"
   ]
  },
  {
   "cell_type": "code",
   "execution_count": 15,
   "id": "9e0ce70f-2d2a-4b74-be16-de278c39ed5c",
   "metadata": {},
   "outputs": [
    {
     "name": "stdout",
     "output_type": "stream",
     "text": [
      "The elctric field components of E are (V/m):\n",
      "The mean value of param Ex (V/m) is (0.589432168889903+0j) +- 0.31291634476439417\n",
      "The mean value of param Ey (V/m) is 1j +- 0.0\n"
     ]
    },
    {
     "data": {
      "image/png": "[encoded data removed]",
      "text/plain": [
       "<Figure size 720x720 with 4 Axes>"
      ]
     },
     "metadata": {
      "needs_background": "light"
     },
     "output_type": "display_data"
    },
    {
     "name": "stdout",
     "output_type": "stream",
     "text": [
      "\n"
     ]
    }
   ],
   "source": [
    "J.draw()"
   ]
  },
  {
   "cell_type": "code",
   "execution_count": 16,
   "id": "89672b89-520b-4b13-8c52-76a48fdeaa91",
   "metadata": {},
   "outputs": [
    {
     "name": "stdout",
     "output_type": "stream",
     "text": [
      "E = \n",
      "[+0.000]   \n",
      "[+0.000]   \n",
      "\n"
     ]
    }
   ],
   "source": [
    "J.clear()\n",
    "print(J)"
   ]
  },
  {
   "cell_type": "code",
   "execution_count": 22,
   "id": "6d137e1f-d697-4233-af82-3ca8dfb1400f",
   "metadata": {},
   "outputs": [
    {
     "name": "stdout",
     "output_type": "stream",
     "text": [
      "(2, 3)\n",
      "[[ 1.  1.  1.]\n",
      " [ 0.  1. -1.]]\n"
     ]
    },
    {
     "data": {
      "text/plain": [
       "E = \n",
       "[+1.000 \b]   [+1.000 \b]   [+1.000 \b]   \n",
       "[+0.000 \b]   [+1.000 \b]   [-1.000 \b]   "
      ]
     },
     "execution_count": 22,
     "metadata": {},
     "output_type": "execute_result"
    }
   ],
   "source": [
    "J.from_list([[1, 0], [1, 1], [1, -1]])"
   ]
  },
  {
   "cell_type": "code",
   "execution_count": null,
   "id": "44c68baa-717f-423b-9e6b-ec724218de33",
   "metadata": {},
   "outputs": [],
   "source": []
  }
 ],
 "metadata": {
  "kernelspec": {
   "display_name": "Python 3 (ipykernel)",
   "language": "python",
   "name": "python3"
  },
  "language_info": {
   "codemirror_mode": {
    "name": "ipython",
    "version": 3
   },
   "file_extension": ".py",
   "mimetype": "text/x-python",
   "name": "python",
   "nbconvert_exporter": "python",
   "pygments_lexer": "ipython3",
   "version": "3.8.12"
  }
 },
 "nbformat": 4,
 "nbformat_minor": 5
}
