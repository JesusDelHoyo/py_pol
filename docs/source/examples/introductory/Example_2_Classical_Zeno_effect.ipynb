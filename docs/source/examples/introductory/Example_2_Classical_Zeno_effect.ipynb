{
 "cells": [
  {
   "cell_type": "markdown",
   "metadata": {},
   "source": [
    "# Example 2: Classic Zeno effect\n",
    "\n",
    "The classic Zeno effect analyzes the intensity transmitted by a certain number of perfect polarizers with equally spaced azimuths between 0º and 90º. Using only two polarizers, as their transmission axes are perpendicular to each other, the output intensity of the system will be zero. As the number of polarizers increases, the output intensity will also increase. In the limit of infinite polarizers, if the incident light is linearly polarized with the same azimuth than the first polarizer, the output wave will have the same intensity than the incident light. \n",
    "\n",
    "This example will show the classic Zeno effect both in Jones and Mueller formalisms. We will also analyze the influence of using imperfect polarizers.\n",
    "\n",
    "## Jones formalism\n",
    "\n",
    "Let us start by Jones formalism. Jones formalism is easier to visualize and understand.\n",
    "\n",
    "### Perfect polarizers\n",
    "\n",
    "This is the easiest case. Start by importing all the required modules and classes."
   ]
  },
  {
   "cell_type": "code",
   "execution_count": 1,
   "metadata": {},
   "outputs": [],
   "source": [
    "from py_pol import degrees\n",
    "from py_pol.jones_vector import Jones_vector\n",
    "from py_pol.jones_matrix import Jones_matrix\n",
    "\n",
    "import matplotlib.pyplot as plt\n",
    "import numpy as np"
   ]
  },
  {
   "cell_type": "markdown",
   "metadata": {},
   "source": [
    "We will work using linear polarization with the same azimuth as the first polarizer (0º)."
   ]
  },
  {
   "cell_type": "code",
   "execution_count": 2,
   "metadata": {},
   "outputs": [
    {
     "name": "stdout",
     "output_type": "stream",
     "text": [
      "Incident wave = \n",
      "[+1.000]   \n",
      "[+0.000]   \n",
      "\n"
     ]
    }
   ],
   "source": [
    "# Incident wave\n",
    "E0 = Jones_vector('Incident wave')\n",
    "E0.linear_light(intensity=1, azimuth=0*degrees)\n",
    "print(E0)"
   ]
  },
  {
   "cell_type": "markdown",
   "metadata": {},
   "source": [
    "Now, we will construct two arrays, one with the number of polarizers and other with the output intensity."
   ]
  },
  {
   "cell_type": "code",
   "execution_count": 3,
   "metadata": {},
   "outputs": [],
   "source": [
    "Nmax = 30\n",
    "Narray = np.arange(2,Nmax+1)\n",
    "J = Jones_matrix('System')\n",
    "I = np.zeros(Nmax-1)\n",
    "\n",
    "# For loop to calculate the intensities\n",
    "for ind, N in enumerate(Narray):\n",
    "    # Create the system of polarizers\n",
    "    angles = np.linspace(90*degrees, 0*degrees, N) # Start by 90º and end in 0º because the rightest  element is the first to be crossed by the light wave\n",
    "    J.diattenuator_perfect(azimuth=angles)\n",
    "    # Multiply them\n",
    "    J.prod()\n",
    "    # Multiply the system matrix by the incident light wave to obtain the output\n",
    "    E_final = J * E0\n",
    "    # Store the intensity\n",
    "    I[ind] = E_final.parameters.intensity(out_number=False)"
   ]
  },
  {
   "cell_type": "markdown",
   "metadata": {},
   "source": [
    "Finally, plot the result."
   ]
  },
  {
   "cell_type": "code",
   "execution_count": 4,
   "metadata": {},
   "outputs": [
    {
     "data": {
      "image/png": "[encoded data removed]",
      "text/plain": [
       "<Figure size 432x288 with 1 Axes>"
      ]
     },
     "metadata": {
      "needs_background": "light"
     },
     "output_type": "display_data"
    }
   ],
   "source": [
    "# Plot the result\n",
    "plt.figure()\n",
    "plt.plot(Narray, I, 'ko')\n",
    "plt.xlabel('# polarizers', fontsize=22)\n",
    "plt.ylabel('$I_{transmited}$', fontsize=22)\n",
    "plt.title('Perfect polarizers', fontsize=24);"
   ]
  },
  {
   "cell_type": "markdown",
   "metadata": {},
   "source": [
    "It is possible to show how the transmitted intensity gets closer to 1 using logarithmic scale."
   ]
  },
  {
   "cell_type": "code",
   "execution_count": 5,
   "metadata": {},
   "outputs": [],
   "source": [
    "Npoins = 100\n",
    "Narray = np.logspace(1,5, Npoins)\n",
    "J = Jones_matrix('System')\n",
    "I = np.zeros(Npoins)\n",
    "\n",
    "# For loop to calculate the intensities\n",
    "for ind, N in enumerate(Narray):\n",
    "    # Create the system of polarizers\n",
    "    angles = np.linspace(90*degrees, 0*degrees, int(N)) # Start by 90º and end in 0º because the rightest  element is the first to be crossed by the light wave\n",
    "    J.diattenuator_perfect(azimuth=angles)\n",
    "    # Multiply them\n",
    "    J.prod()\n",
    "    # Multiply the system matrix by the incident light wave to obtain the output\n",
    "    E_final = J * E0\n",
    "    # Store the intensity\n",
    "    I[ind] = E_final.parameters.intensity(out_number=False)"
   ]
  },
  {
   "cell_type": "code",
   "execution_count": 6,
   "metadata": {},
   "outputs": [
    {
     "data": {
      "image/png": "[encoded data removed]",
      "text/plain": [
       "<Figure size 432x288 with 1 Axes>"
      ]
     },
     "metadata": {
      "needs_background": "light"
     },
     "output_type": "display_data"
    }
   ],
   "source": [
    "# Plot the result\n",
    "plt.figure()\n",
    "plt.semilogx(Narray, I, 'ko')\n",
    "plt.xlabel('# polarizers', fontsize=22)\n",
    "plt.ylabel('$I_{transmited}$', fontsize=22)\n",
    "plt.title('Perfect polarizers', fontsize=24);"
   ]
  },
  {
   "cell_type": "markdown",
   "metadata": {},
   "source": [
    "### Imperfect polarizers\n",
    "\n",
    "Imperfect polarizers will have a leak ($T_{min}$ > 0) and, much more important for the Zeno effect, will not perfectly transmit the transmission state ($T_{max}$ < 1). We will use some values of commercial polarizers with anti-reflecting coating: \n",
    "\n",
    "* $T_{max}$ = 0.99.\n",
    "* $T_{min}$ = 1e-4."
   ]
  },
  {
   "cell_type": "code",
   "execution_count": 7,
   "metadata": {},
   "outputs": [],
   "source": [
    "Nmax = 30\n",
    "Narray = np.arange(2,Nmax+1)\n",
    "J = Jones_matrix('System')\n",
    "I = np.zeros(Nmax-1)\n",
    "\n",
    "# For loop to calculate the intensities\n",
    "for ind, N in enumerate(Narray):\n",
    "    # Create the system of polarizers\n",
    "    angles = np.linspace(90*degrees, 0*degrees, N) # Start by 90º and end in 0º because the rightest  element is the first to be crossed by the light wave\n",
    "    J.diattenuator_linear(Tmax=0.99, Tmin=1e-4, azimuth=angles)\n",
    "    # Multiply them\n",
    "    J.prod()\n",
    "    # Multiply the system matrix by the incident light wave to obtain the output\n",
    "    E_final = J * E0\n",
    "    # Store the intensity\n",
    "    I[ind] = E_final.parameters.intensity(out_number=False)"
   ]
  },
  {
   "cell_type": "code",
   "execution_count": 8,
   "metadata": {},
   "outputs": [
    {
     "name": "stdout",
     "output_type": "stream",
     "text": [
      "The maximum obtained intensity is 0.7201695688246019 for 17 polarizers.\n"
     ]
    },
    {
     "data": {
      "image/png": "[encoded data removed]",
      "text/plain": [
       "<Figure size 432x288 with 1 Axes>"
      ]
     },
     "metadata": {
      "needs_background": "light"
     },
     "output_type": "display_data"
    }
   ],
   "source": [
    "# Plot the result\n",
    "plt.figure()\n",
    "plt.plot(Narray, I, 'ko')\n",
    "plt.xlabel('# polarizers', fontsize=22)\n",
    "plt.ylabel('$I_{transmited}$', fontsize=22)\n",
    "plt.title('Imperfect polarizers', fontsize=24)\n",
    "\n",
    "# Find the maximum\n",
    "Imax = np.max(I)\n",
    "Nmax = np.argmax(I) + 2\n",
    "print('The maximum obtained intensity is {} for {} polarizers.'.format(Imax, Nmax))"
   ]
  },
  {
   "cell_type": "markdown",
   "metadata": {},
   "source": [
    "In this case, the increase in transmission expected by the increase of the number of polarizers does not compensate the extra loss produced by the imperfect polarizer transmission. This produces a maximum of the transmitted intensity (using 17 polarizers for this data).\n",
    "\n",
    "## Mueller-Stokes formalism\n",
    "\n",
    "Mueller-Stokes formalism is more complicated than Jones formalism, but allows working with partial polarization states. This example uses completely polarized light, but it is a good example to start using *Mueller* and *Stokes* classes.\n",
    "\n",
    "### Perfect polarizers\n",
    "\n",
    "This is the easiest case. Start by importing all the required modules and classes."
   ]
  },
  {
   "cell_type": "code",
   "execution_count": 9,
   "metadata": {},
   "outputs": [],
   "source": [
    "import numpy as np\n",
    "import matplotlib.pyplot as plt\n",
    "\n",
    "from py_pol import degrees\n",
    "from py_pol.stokes import Stokes\n",
    "from py_pol.mueller import Mueller"
   ]
  },
  {
   "cell_type": "markdown",
   "metadata": {},
   "source": [
    "We will work using linear polarization with the same azimuth as the first polarizer (0º)."
   ]
  },
  {
   "cell_type": "code",
   "execution_count": 10,
   "metadata": {},
   "outputs": [
    {
     "name": "stdout",
     "output_type": "stream",
     "text": [
      "Incident wave = \n",
      "[+1.000]   \n",
      "[+1.000]   \n",
      "[+0.000]   \n",
      "[+0.000]   \n",
      "\n"
     ]
    }
   ],
   "source": [
    "# Incident wave\n",
    "S0 = Stokes('Incident wave')\n",
    "S0.linear_light(intensity=1, azimuth=0*degrees)\n",
    "print(S0)"
   ]
  },
  {
   "cell_type": "markdown",
   "metadata": {},
   "source": [
    "Now, we will construct two arrays, one with the number of polarizers and other with the output intensity."
   ]
  },
  {
   "cell_type": "code",
   "execution_count": 11,
   "metadata": {},
   "outputs": [],
   "source": [
    "Nmax = 30\n",
    "Narray = np.arange(2,Nmax+1)\n",
    "J = Mueller('System')\n",
    "I = np.zeros(Nmax-1)\n",
    "\n",
    "# For loop to calculate the intensities\n",
    "for ind, N in enumerate(Narray):\n",
    "    # Create the system of polarizers\n",
    "    angles = np.linspace(90*degrees, 0*degrees, N) # Start by 90º and end in 0º because the rightest  element is the first to be crossed by the light wave\n",
    "    J.diattenuator_perfect(azimuth=angles)\n",
    "    # Multiply them\n",
    "    J.prod()\n",
    "    # Multiply the system matrix by the incident light wave to obtain the output\n",
    "    S_final = J * S0\n",
    "    # Store the intensity\n",
    "    I[ind] = S_final.parameters.intensity(out_number=False)"
   ]
  },
  {
   "cell_type": "markdown",
   "metadata": {},
   "source": [
    "Finally, plot the result."
   ]
  },
  {
   "cell_type": "code",
   "execution_count": 12,
   "metadata": {},
   "outputs": [
    {
     "data": {
      "image/png": "[encoded data removed]",
      "text/plain": [
       "<Figure size 432x288 with 1 Axes>"
      ]
     },
     "metadata": {
      "needs_background": "light"
     },
     "output_type": "display_data"
    }
   ],
   "source": [
    "# Plot the result\n",
    "plt.figure()\n",
    "plt.plot(Narray, I, 'ko')\n",
    "plt.xlabel('# polarizers', fontsize=22)\n",
    "plt.ylabel('$I_{transmited}$', fontsize=22)\n",
    "plt.title('Perfect polarizers', fontsize=24);"
   ]
  },
  {
   "cell_type": "markdown",
   "metadata": {},
   "source": [
    "It is possible to show how the transmitted intensity gets closer to 1 using logarithmic scale."
   ]
  },
  {
   "cell_type": "code",
   "execution_count": 13,
   "metadata": {},
   "outputs": [],
   "source": [
    "Npoins = 100\n",
    "Narray = np.logspace(1,5, Npoins)\n",
    "J = Mueller('System')\n",
    "I = np.zeros(Npoins)\n",
    "\n",
    "# For loop to calculate the intensities\n",
    "for ind, N in enumerate(Narray):\n",
    "    # Create the system of polarizers\n",
    "    angles = np.linspace(90*degrees, 0*degrees, int(N)) # Start by 90º and end in 0º because the rightest  element is the first to be crossed by the light wave\n",
    "    J.diattenuator_perfect(azimuth=angles)\n",
    "    # Multiply them\n",
    "    J.prod()\n",
    "    # Multiply the system matrix by the incident light wave to obtain the output\n",
    "    S_final = J * S0\n",
    "    # Store the intensity\n",
    "    I[ind] = S_final.parameters.intensity(out_number=False)"
   ]
  },
  {
   "cell_type": "code",
   "execution_count": 14,
   "metadata": {},
   "outputs": [
    {
     "data": {
      "image/png": "[encoded data removed]",
      "text/plain": [
       "<Figure size 432x288 with 1 Axes>"
      ]
     },
     "metadata": {
      "needs_background": "light"
     },
     "output_type": "display_data"
    }
   ],
   "source": [
    "# Plot the result\n",
    "plt.figure()\n",
    "plt.semilogx(Narray, I, 'ko')\n",
    "plt.xlabel('# polarizers', fontsize=22)\n",
    "plt.ylabel('$I_{transmited}$', fontsize=22)\n",
    "plt.title('Perfect polarizers', fontsize=24);"
   ]
  },
  {
   "cell_type": "markdown",
   "metadata": {},
   "source": [
    "### Imperfect polarizers\n",
    "\n",
    "Imperfect polarizers will have a leak ($T_{min}$ > 0) and, much more important for the Zeno effect, will not perfectly transmit the transmission state ($T_{max}$ < 1). We will use some values of commercial polarizers with anti-reflecting coating: \n",
    "\n",
    "* $T_{max}$ = 0.99.\n",
    "* $T_{min}$ = 1e-4."
   ]
  },
  {
   "cell_type": "code",
   "execution_count": 15,
   "metadata": {},
   "outputs": [],
   "source": [
    "Nmax = 30\n",
    "Narray = np.arange(2,Nmax+1)\n",
    "J = Mueller('System')\n",
    "I = np.zeros(Nmax-1)\n",
    "\n",
    "# For loop to calculate the intensities\n",
    "for ind, N in enumerate(Narray):\n",
    "    # Create the system of polarizers\n",
    "    angles = np.linspace(90*degrees, 0*degrees, N) # Start by 90º and end in 0º because the rightest  element is the first to be crossed by the light wave\n",
    "    J.diattenuator_linear(Tmax=0.99, Tmin=1e-4, azimuth=angles)\n",
    "    # Multiply them\n",
    "    J.prod()\n",
    "    # Multiply the system matrix by the incident light wave to obtain the output\n",
    "    S_final = J * S0\n",
    "    # Store the intensity\n",
    "    I[ind] = S_final.parameters.intensity(out_number=False)"
   ]
  },
  {
   "cell_type": "code",
   "execution_count": 16,
   "metadata": {},
   "outputs": [
    {
     "name": "stdout",
     "output_type": "stream",
     "text": [
      "The maximum obtained intensity is 0.720169568824601 for 17 polarizers.\n"
     ]
    },
    {
     "data": {
      "image/png": "[encoded data removed]",
      "text/plain": [
       "<Figure size 432x288 with 1 Axes>"
      ]
     },
     "metadata": {
      "needs_background": "light"
     },
     "output_type": "display_data"
    }
   ],
   "source": [
    "# Plot the result\n",
    "plt.figure()\n",
    "plt.plot(Narray, I, 'ko')\n",
    "plt.xlabel('# polarizers', fontsize=22)\n",
    "plt.ylabel('$I_{transmited}$', fontsize=22)\n",
    "plt.title('Imperfect polarizers', fontsize=24)\n",
    "\n",
    "# Find the maximum\n",
    "Imax = np.max(I)\n",
    "Nmax = np.argmax(I) + 2\n",
    "print('The maximum obtained intensity is {} for {} polarizers.'.format(Imax, Nmax))"
   ]
  }
 ],
 "metadata": {
  "kernelspec": {
   "display_name": "Python 3.10.7 64-bit",
   "language": "python",
   "name": "python3"
  },
  "language_info": {
   "codemirror_mode": {
    "name": "ipython",
    "version": 3
   },
   "file_extension": ".py",
   "mimetype": "text/x-python",
   "name": "python",
   "nbconvert_exporter": "python",
   "pygments_lexer": "ipython3",
   "version": "3.10.7"
  },
  "latex_envs": {
   "LaTeX_envs_menu_present": true,
   "autocomplete": true,
   "bibliofile": "biblio.bib",
   "cite_by": "apalike",
   "current_citInitial": 1,
   "eqLabelWithNumbers": true,
   "eqNumInitial": 1,
   "hotkeys": {
    "equation": "Ctrl-E",
    "itemize": "Ctrl-I"
   },
   "labels_anchors": false,
   "latex_user_defs": false,
   "report_style_numbering": true,
   "user_envs_cfg": true
  },
  "toc": {
   "base_numbering": 1,
   "nav_menu": {},
   "number_sections": true,
   "sideBar": true,
   "skip_h1_title": false,
   "title_cell": "Table of Contents",
   "title_sidebar": "Contents",
   "toc_cell": false,
   "toc_position": {},
   "toc_section_display": true,
   "toc_window_display": false
  },
  "varInspector": {
   "cols": {
    "lenName": 16,
    "lenType": 16,
    "lenVar": 40
   },
   "kernels_config": {
    "python": {
     "delete_cmd_postfix": "",
     "delete_cmd_prefix": "del ",
     "library": "var_list.py",
     "varRefreshCmd": "print(var_dic_list())"
    },
    "r": {
     "delete_cmd_postfix": ") ",
     "delete_cmd_prefix": "rm(",
     "library": "var_list.r",
     "varRefreshCmd": "cat(var_dic_list()) "
    }
   },
   "types_to_exclude": [
    "module",
    "function",
    "builtin_function_or_method",
    "instance",
    "_Feature"
   ],
   "window_display": true
  },
  "vscode": {
   "interpreter": {
    "hash": "26de051ba29f2982a8de78e945f0abaf191376122a1563185a90213a26c5da77"
   }
  }
 },
 "nbformat": 4,
 "nbformat_minor": 4
}
