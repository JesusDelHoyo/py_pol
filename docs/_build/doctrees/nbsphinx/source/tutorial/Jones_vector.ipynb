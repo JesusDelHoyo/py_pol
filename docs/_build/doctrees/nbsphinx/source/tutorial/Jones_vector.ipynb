{
 "cells": [
  {
   "cell_type": "markdown",
   "metadata": {
    "tags": []
   },
   "source": [
    "# Jones_vector class\n",
    "\n",
    "Jones_Vector is a class that manages Jones vectors. It allows the user to create and manipulate them.\n",
    "\n",
    "## Creating an instance\n",
    "\n",
    "An instance must be created before starting to operate with the Jones vector. The initialization accepts one argument: the name of the vector. This name will be used for printing:"
   ]
  },
  {
   "cell_type": "code",
   "execution_count": 2,
   "metadata": {},
   "outputs": [],
   "source": [
    "from py_pol.jones_vector import Jones_vector, create_Jones_vectors\n",
    "from py_pol.stokes import Stokes\n",
    "from py_pol.utils import degrees\n",
    "import numpy as np"
   ]
  },
  {
   "cell_type": "code",
   "execution_count": 3,
   "metadata": {},
   "outputs": [
    {
     "name": "stdout",
     "output_type": "stream",
     "text": [
      "Source 1 = \n",
      "[+0.000]   \n",
      "[+0.000]   \n",
      "\n"
     ]
    }
   ],
   "source": [
    "E = Jones_vector(\"Source 1\")\n",
    "print(E)"
   ]
  },
  {
   "cell_type": "markdown",
   "metadata": {},
   "source": [
    "Several Jones_vector objects can be created at the same time using the function *create_Jones_vectors*."
   ]
  },
  {
   "cell_type": "code",
   "execution_count": 4,
   "metadata": {},
   "outputs": [
    {
     "name": "stdout",
     "output_type": "stream",
     "text": [
      "Source 2 = \n",
      "[+0.000]   \n",
      "[+0.000]   \n",
      " Source 3 = \n",
      "[+0.000]   \n",
      "[+0.000]   \n",
      "\n",
      "[E = \n",
      "[+0.000]   \n",
      "[+0.000]   \n",
      ", E = \n",
      "[+0.000]   \n",
      "[+0.000]   \n",
      ", E = \n",
      "[+0.000]   \n",
      "[+0.000]   \n",
      "]\n"
     ]
    }
   ],
   "source": [
    "E1, E2 = create_Jones_vectors(name=('Source 2', 'Source 3'))\n",
    "print(E1, E2)\n",
    "\n",
    "list_of_E = create_Jones_vectors(N=3)\n",
    "print(list_of_E)"
   ]
  },
  {
   "cell_type": "markdown",
   "metadata": {},
   "source": [
    "## Jones_vector class fields\n",
    "\n",
    "Jones_vector class objects have some fields where some methods and information  stored:\n",
    "\n",
    "* **M**: 2xN array containing all the Jones vectors.\n",
    "* **name**: Name of the object for print purposes.\n",
    "* **size**: Number of stored Jones vectors.\n",
    "* **shape**: Shape desired for the outputs.\n",
    "* **ndim**: Number of dimensions for representation purposes.\n",
    "* **type**: Type of the object ('Jones_vector'). This is used for determining the object class as using isinstance may throw unexpected results in .ipynb files.\n",
    "* **parameters**: Object of class *Parameters_Jones_vector*.\n",
    "* **checks**: Object of class *Checks_Jones_vector*."
   ]
  },
  {
   "cell_type": "code",
   "execution_count": 5,
   "metadata": {},
   "outputs": [
    {
     "name": "stdout",
     "output_type": "stream",
     "text": [
      "Array:  [[0.61501703+0.j 0.42104134+0.j 0.0344764 +0.j 0.86957058+0.j\n",
      "  0.00166809+0.j 0.11932857+0.j 0.26234312+0.j 0.21023932+0.j\n",
      "  0.98768422+0.j]\n",
      " [0.        +0.j 0.        +0.j 0.        +0.j 0.        +0.j\n",
      "  0.        +0.j 0.        +0.j 0.        +0.j 0.        +0.j\n",
      "  0.        +0.j]]\n",
      "Name:  Source 1\n",
      "Size:  9\n",
      "Shape:  [3, 3]\n",
      "Number of dimensions:  2\n",
      "Type:  Jones_vector \n",
      "\n",
      "Parameters (intensity): \n",
      " [[3.78245944e-01 1.77275808e-01 1.18862244e-03]\n",
      " [7.56152990e-01 2.78252862e-06 1.42393071e-02]\n",
      " [6.88239100e-02 4.42005707e-02 9.75520120e-01]] \n",
      "\n",
      "Checks (circularly polarized): \n",
      " [[False False False]\n",
      " [False False False]\n",
      " [False False False]] \n",
      "\n"
     ]
    }
   ],
   "source": [
    "E = Jones_vector(\"Source 1\")\n",
    "amp = np.random.rand(3,3)\n",
    "E.linear_light(azimuth = 0, amplitude=amp)\n",
    "\n",
    "print('Array: ', E.M)\n",
    "print('Name: ', E.name)\n",
    "print('Size: ', E.size)\n",
    "print('Shape: ', E.shape)\n",
    "print('Number of dimensions: ', E.ndim)\n",
    "print('Type: ', E._type, '\\n')\n",
    "\n",
    "print('Parameters (intensity): \\n', E.parameters.intensity(), '\\n')\n",
    "print('Checks (circularly polarized): \\n', E.checks.is_circular(), '\\n')"
   ]
  },
  {
   "cell_type": "markdown",
   "metadata": {},
   "source": [
    "## Generating polarization states\n",
    "\n",
    "As shown in the previous example, the Jones vector is initialized with all elements equal to zero. There are many methods that can be used to generate a more desirable vector:\n",
    "\n",
    "* **from_components**: Creates a Jones_vector object directly from the electric field components $E_x$ and $E_y$.\n",
    "* **from_matrix**: Creates a Jones_vector object directly from a 2xN numpy array.\n",
    "* **from_list**: Creates a Jones_vector object directly from a list of 2 or 2x1 numpy arrays.\n",
    "* **from_distribution**: Creates a Jones vector from the temporal evolution of the electric field components.\n",
    "* **from_Stokes**: Creates a Jones vector from a Stokes object. Take into account that only pure (totally polarized) Stokes vectors must be transformed to Jones vectors, and thet even for them, the global phase is unknown.\n",
    "* **linear_light**: Creates a state of linear polarization with the desired angle.\n",
    "* **circular_light**: Creates a state of circular polarization.\n",
    "* **eliptical_light**: Creates a state of eliptical polarization.\n",
    "* **general_azimuth_ellipticity**: Creates a Jones vector from the azimuth, ellipticity and amplitude parameters.\n",
    "* **general_charac_angles**: Creates a Jones vector from the characteristic angles and amplitude parameters.\n",
    "\n",
    "\n",
    "For a more detailed description of each method, refer to the individual documentation of each one.\n",
    "\n",
    "Example:"
   ]
  },
  {
   "cell_type": "code",
   "execution_count": 6,
   "metadata": {},
   "outputs": [
    {
     "name": "stdout",
     "output_type": "stream",
     "text": [
      "Source 1 = \n",
      "[+0.866]   \n",
      "[+0.500]   \n",
      "\n"
     ]
    }
   ],
   "source": [
    "E = Jones_vector(\"Source 1\")\n",
    "E.linear_light(azimuth = 30*degrees, amplitude=1)\n",
    "print(E)"
   ]
  },
  {
   "cell_type": "markdown",
   "metadata": {},
   "source": [
    "The previous example only stores one Jones vector. It is possible to store many Jones vectors in the same object. This is useful specially when the same operation is performed upon all of them, as rotation. In this way, it is not required to use for loops, reducing significantly the computation time.\n",
    "\n",
    "There are many ways of creating several Jones vectors in the same object. The first way is creating an object with several identical vectors. This is performed using the *length* argument:"
   ]
  },
  {
   "cell_type": "code",
   "execution_count": 7,
   "metadata": {},
   "outputs": [
    {
     "name": "stdout",
     "output_type": "stream",
     "text": [
      "Source 1 = \n",
      "[+1.414]   [+1.414]   [+1.414]   [+1.414]   [+1.414]   \n",
      "[+1.414]   [+1.414]   [+1.414]   [+1.414]   [+1.414]   \n",
      "\n"
     ]
    }
   ],
   "source": [
    "E = Jones_vector(\"Source 1\")\n",
    "E.linear_light(azimuth = 45*degrees, amplitude=2, length = 5)\n",
    "print(E)"
   ]
  },
  {
   "cell_type": "markdown",
   "metadata": {},
   "source": [
    "A second way of creating several vectors at the same time is using an array as one of the parameters. Take into account that, if you use this option, all parameters must have the same number of elements or just one element. Otherwise, the program will throw an exception."
   ]
  },
  {
   "cell_type": "code",
   "execution_count": 8,
   "metadata": {},
   "outputs": [
    {
     "name": "stdout",
     "output_type": "stream",
     "text": [
      "Source 1 = \n",
      "[+2.000]   [+1.848]   [+1.414]   [+0.765]   [+0.000]   \n",
      "[+0.000]   [+0.765]   [+1.414]   [+1.848]   [+2.000]   \n",
      "\n"
     ]
    }
   ],
   "source": [
    "E = Jones_vector(\"Source 1\")\n",
    "angles = np.linspace(0, 90*degrees, 5)\n",
    "E.linear_light(azimuth = angles, amplitude=2)\n",
    "print(E)"
   ]
  },
  {
   "cell_type": "markdown",
   "metadata": {},
   "source": [
    "If the parameters have dimension higher than 1, the program will store that information in order to make prints and plots. In that case, the *print* function separates the two components Jones vectors:\n",
    "\n",
    "$$E=\\left[\\begin{array}{c}\n",
    "E_{x}\\\\\n",
    "E_y\n",
    "\\end{array}\\right]$$"
   ]
  },
  {
   "cell_type": "code",
   "execution_count": 9,
   "metadata": {},
   "outputs": [
    {
     "name": "stdout",
     "output_type": "stream",
     "text": [
      "Source 1 Ex = \n",
      "[[0.74801925+0.j 0.06778686+0.j 0.84726696+0.j]\n",
      " [0.62279092+0.j 0.24990154+0.j 0.20596498+0.j]\n",
      " [0.10693462+0.j 0.31805699+0.j 0.87936437+0.j]]\n",
      "Source 1 Ey = \n",
      "[[0.+0.j 0.+0.j 0.+0.j]\n",
      " [0.+0.j 0.+0.j 0.+0.j]\n",
      " [0.+0.j 0.+0.j 0.+0.j]]\n",
      "\n"
     ]
    }
   ],
   "source": [
    "E = Jones_vector(\"Source 1\")\n",
    "amp = np.random.rand(3,3)\n",
    "E.linear_light(azimuth = 0, amplitude=amp)\n",
    "print(E)"
   ]
  },
  {
   "cell_type": "markdown",
   "metadata": {},
   "source": [
    "It is possible to transfor Stokes vectors into Jones vectors. This process will remove any depolarization present in the Stokes vector."
   ]
  },
  {
   "cell_type": "code",
   "execution_count": 10,
   "metadata": {},
   "outputs": [
    {
     "name": "stdout",
     "output_type": "stream",
     "text": [
      "E = \n",
      "[+1.000]   \n",
      "[+0.000]   \n",
      "\n"
     ]
    }
   ],
   "source": [
    "S = Stokes().linear_light(azimuth=0)\n",
    "E = Jones_vector().from_Stokes(S)\n",
    "print(E)"
   ]
  },
  {
   "cell_type": "markdown",
   "metadata": {},
   "source": [
    "### Features of creation methods"
   ]
  },
  {
   "cell_type": "markdown",
   "metadata": {},
   "source": [
    "*py_pol* model sets the origin of phase in $E_x$. It means that the parameter *global_phase* of most creation methods and the methods *remove_global_phase* and *set_global_phase* (see below) will take it as the reference."
   ]
  },
  {
   "cell_type": "code",
   "execution_count": 11,
   "metadata": {},
   "outputs": [
    {
     "name": "stdout",
     "output_type": "stream",
     "text": [
      "Source 1 = \n",
      "[+0.000 + +0.707j]   \n",
      "[+0.000 + +0.707j]   \n",
      "\n",
      "Source 1 = \n",
      "[+0.707]   \n",
      "[+0.707]   \n",
      "\n"
     ]
    }
   ],
   "source": [
    "E = Jones_vector(\"Source 1\")\n",
    "E.linear_light(azimuth = 45*degrees, global_phase=90*degrees)\n",
    "print(E)\n",
    "\n",
    "E.remove_global_phase()\n",
    "print(E)"
   ]
  },
  {
   "cell_type": "markdown",
   "metadata": {},
   "source": [
    "All creation methods that accepts an *amplitude* or an *intensity* parameter ($a$ and $b$ for *elliptical_light*) in order to set the electric field amplitude (the norm of the electric field vector) or the intensity. If both of them are given together to the method, it will use the *amplitude*:"
   ]
  },
  {
   "cell_type": "code",
   "execution_count": 12,
   "metadata": {},
   "outputs": [
    {
     "name": "stdout",
     "output_type": "stream",
     "text": [
      "Source 1 = \n",
      "[+3.536]   \n",
      "[+3.536]   \n",
      "\n",
      "The intensity of Source 1 is (a.u.):\n",
      "25.0\n",
      "\n",
      "Source 2 = \n",
      "[+1.000]   \n",
      "[+1.000]   \n",
      "\n",
      "The intensity of Source 2 is (a.u.):\n",
      "2.000000000000001\n",
      "\n",
      "Source 3 = \n",
      "[+3.536]   \n",
      "[+3.536]   \n",
      "\n",
      "The intensity of Source 3 is (a.u.):\n",
      "25.0\n",
      "\n"
     ]
    }
   ],
   "source": [
    "E = Jones_vector(\"Source 1\")\n",
    "E.linear_light(azimuth = 45*degrees, amplitude=5)\n",
    "print(E)\n",
    "_ = E.parameters.intensity(verbose=True)\n",
    "\n",
    "E = Jones_vector(\"Source 2\")\n",
    "E.linear_light(azimuth = 45*degrees, intensity=2)\n",
    "print(E)\n",
    "_ = E.parameters.intensity(verbose=True)\n",
    "\n",
    "E = Jones_vector(\"Source 3\")\n",
    "E.linear_light(azimuth = 45*degrees, intensity=2, amplitude=5)\n",
    "print(E)\n",
    "_ = E.parameters.intensity(verbose=True)"
   ]
  },
  {
   "cell_type": "markdown",
   "metadata": {},
   "source": [
    "## Basic operations\n",
    "\n",
    "Some physical phenomena that affects polarized light is described by simple operations performed to their Jones vectors.\n",
    "\n",
    "### Addition of two Jones vectors\n",
    "\n",
    "The interference of two light waves can be represented by the sum of their Jones vectors."
   ]
  },
  {
   "cell_type": "code",
   "execution_count": 13,
   "metadata": {},
   "outputs": [
    {
     "name": "stdout",
     "output_type": "stream",
     "text": [
      "Source 1 = \n",
      "[+1.000]   \n",
      "[+0.000]   \n",
      "\n",
      "Source 2 = \n",
      "[+0.500 + +0.500j]   \n",
      "[+0.500 + +0.500j]   \n",
      "\n",
      "Source 1 + Source 2 = \n",
      "[+1.500 + +0.500j]   \n",
      "[+0.500 + +0.500j]   \n",
      "\n"
     ]
    }
   ],
   "source": [
    "E1 = Jones_vector(\"Source 1\")\n",
    "E1.linear_light(azimuth = 0*degrees, amplitude=1)\n",
    "print(E1)\n",
    "E2 = Jones_vector(\"Source 2\")\n",
    "E2.linear_light(azimuth = 45*degrees, amplitude=1, global_phase = 45*degrees)\n",
    "print(E2)\n",
    "E3 = E1 + E2\n",
    "print(E3)"
   ]
  },
  {
   "cell_type": "markdown",
   "metadata": {},
   "source": [
    "### Multiply by a constant\n",
    "\n",
    "The absorption and gain experienced by a light wave is described by multiplying its Jones vector by a real positive number $c$. The light wave will experience absorption if $c<0$ and gain if $c>0$:"
   ]
  },
  {
   "cell_type": "code",
   "execution_count": 14,
   "metadata": {},
   "outputs": [
    {
     "name": "stdout",
     "output_type": "stream",
     "text": [
      "Source 1 = \n",
      "[+0.500]   \n",
      "[+0.000]   \n",
      "\n",
      "Source 1 * 2 = \n",
      "[+1.000]   \n",
      "[+0.000]   \n",
      "\n",
      "Source 1 * 3 = \n",
      "[+1.500]   \n",
      "[+0.000]   \n",
      "\n",
      "Source 1 / 3 = \n",
      "[+0.167]   \n",
      "[+0.000]   \n",
      "\n"
     ]
    }
   ],
   "source": [
    "E1 = Jones_vector(\"Source 1\")\n",
    "E1.linear_light(azimuth = 0*degrees, amplitude = 0.5)\n",
    "print(E1)\n",
    "\n",
    "E2 = 2 * E1\n",
    "print(E2)\n",
    "\n",
    "E2 =  E1*3\n",
    "print(E2)\n",
    "\n",
    "E2 =  E1/3\n",
    "print(E2)"
   ]
  },
  {
   "cell_type": "markdown",
   "metadata": {},
   "source": [
    "If the constant is complex, the constant phase will be added to the global phase of the light, while its absolute value will increase or decrease the electric field amplitude. \n",
    "\n",
    "Take into account that real negative values are a special case of complex numbers whose phase is 180º."
   ]
  },
  {
   "cell_type": "code",
   "execution_count": 15,
   "metadata": {},
   "outputs": [
    {
     "name": "stdout",
     "output_type": "stream",
     "text": [
      "Source 1 = \n",
      "[+0.500]   \n",
      "[+0.000]   \n",
      "\n",
      "Source 1 * (0.5-0.5j) = \n",
      "[+0.250 + -0.250j]   \n",
      "[+0.000 + +0.000j]   \n",
      "\n",
      "Source 1 * 1j = \n",
      "[+0.000 + +0.500j]   \n",
      "[+0.000 + +0.000j]   \n",
      "\n"
     ]
    }
   ],
   "source": [
    "E1 = Jones_vector(\"Source 1\")\n",
    "E1.linear_light(azimuth = 0*degrees, amplitude = 0.5)\n",
    "print(E1)\n",
    "\n",
    "c = 0.5-0.5j\n",
    "E2 = c * E1\n",
    "print(E2)\n",
    "\n",
    "c = 1j\n",
    "E2 = c * E1\n",
    "print(E2)"
   ]
  },
  {
   "cell_type": "markdown",
   "metadata": {},
   "source": [
    "### Equality\n",
    "\n",
    "It is possible to compare two *Jones_vector* objects and tell if they are the same. It just compares electric field, not the rest of object fields."
   ]
  },
  {
   "cell_type": "code",
   "execution_count": 16,
   "metadata": {},
   "outputs": [
    {
     "name": "stdout",
     "output_type": "stream",
     "text": [
      "Source 1 = \n",
      "[+1.000]   \n",
      "[+0.000]   \n",
      "\n",
      "Source 2 = \n",
      "[+1.000]   \n",
      "[+0.000]   \n",
      "\n",
      "Comparison:  False\n"
     ]
    }
   ],
   "source": [
    "E1 = Jones_vector(\"Source 1\")\n",
    "E1.linear_light(azimuth = 0*degrees)\n",
    "print(E1)\n",
    "E2 = Jones_vector(\"Source 2\")\n",
    "E2.linear_light(azimuth = 0.01*degrees)\n",
    "print(E2)\n",
    "\n",
    "print('Comparison: ', E1==E2)"
   ]
  },
  {
   "cell_type": "markdown",
   "metadata": {},
   "source": [
    "### Operations and multidimensionality\n",
    "\n",
    "The basic operations of *Jones_vector* objects are subject to the same casting rules as numpy arrays. This means that they can be easily used even if one or both elements of the operation have more than one element.\n",
    "\n",
    "Here are some examples:"
   ]
  },
  {
   "cell_type": "code",
   "execution_count": 17,
   "metadata": {},
   "outputs": [
    {
     "name": "stdout",
     "output_type": "stream",
     "text": [
      "Source 1 = \n",
      "[+1.000]   \n",
      "[+0.000]   \n",
      "\n",
      "Source 2 = \n",
      "[+0.707 + +0.707j]   [+0.653 + +0.653j]   [+0.500 + +0.500j]   [+0.271 + +0.271j]   [+0.000 + +0.000j]   \n",
      "[+0.000 + +0.000j]   [+0.271 + +0.271j]   [+0.500 + +0.500j]   [+0.653 + +0.653j]   [+0.707 + +0.707j]   \n",
      "\n",
      "Source 1 + Source 2 = \n",
      "[+1.707 + +0.707j]   [+1.653 + +0.653j]   [+1.500 + +0.500j]   [+1.271 + +0.271j]   [+1.000 + +0.000j]   \n",
      "[+0.000 + +0.000j]   [+0.271 + +0.271j]   [+0.500 + +0.500j]   [+0.653 + +0.653j]   [+0.707 + +0.707j]   \n",
      "\n"
     ]
    }
   ],
   "source": [
    "E1 = Jones_vector(\"Source 1\")\n",
    "E1.linear_light(azimuth = 0*degrees, amplitude=1)\n",
    "print(E1)\n",
    "E2 = Jones_vector(\"Source 2\")\n",
    "angles = np.linspace(0, 90*degrees, 5)\n",
    "E2.linear_light(azimuth = angles, amplitude=1, global_phase = 45*degrees)\n",
    "print(E2)\n",
    "\n",
    "E3 = E1 + E2\n",
    "print(E3)"
   ]
  },
  {
   "cell_type": "code",
   "execution_count": 18,
   "metadata": {},
   "outputs": [
    {
     "name": "stdout",
     "output_type": "stream",
     "text": [
      "Source 1 = \n",
      "[+0.866]   \n",
      "[+0.500]   \n",
      "\n",
      "E = \n",
      "[+0.087]   [+0.563]   [+1.039]   [+1.516]   [+1.992]   \n",
      "[+0.050]   [+0.325]   [+0.600]   [+0.875]   [+1.150]   \n",
      "\n"
     ]
    }
   ],
   "source": [
    "E1 = Jones_vector(\"Source 1\")\n",
    "E1.linear_light(azimuth = 30*degrees, amplitude = 1)\n",
    "print(E1)\n",
    "\n",
    "c = np.linspace(0.1, 2.3, 5)\n",
    "E2 = c * E1\n",
    "print(E2)"
   ]
  },
  {
   "cell_type": "code",
   "execution_count": 19,
   "metadata": {},
   "outputs": [
    {
     "name": "stdout",
     "output_type": "stream",
     "text": [
      "Source 1 = \n",
      "[+0.000]   [-0.383]   [-0.707]   [-0.924]   [-1.000]   \n",
      "[+1.000]   [+0.924]   [+0.707]   [+0.383]   [+0.000]   \n",
      "\n",
      "Source 2 = \n",
      "[+0.707 + +0.707j]   [+0.653 + +0.653j]   [+0.500 + +0.500j]   [+0.271 + +0.271j]   [+0.000 + +0.000j]   \n",
      "[+0.000 + +0.000j]   [+0.271 + +0.271j]   [+0.500 + +0.500j]   [+0.653 + +0.653j]   [+0.707 + +0.707j]   \n",
      "\n",
      "Source 1 - Source 2 = \n",
      "[-0.707 + -0.707j]   [-1.036 + -0.653j]   [-1.207 + -0.500j]   [-1.194 + -0.271j]   [-1.000 + -0.000j]   \n",
      "[+1.000 + +0.000j]   [+0.653 + -0.271j]   [+0.207 + -0.500j]   [-0.271 + -0.653j]   [-0.707 + -0.707j]   \n",
      "\n"
     ]
    }
   ],
   "source": [
    "E1 = Jones_vector(\"Source 1\")\n",
    "angles = np.linspace(0, 90*degrees, 5)\n",
    "E1.linear_light(azimuth = 90*degrees + angles, amplitude=1)\n",
    "print(E1)\n",
    "E2 = Jones_vector(\"Source 2\")\n",
    "E2.linear_light(azimuth = angles, amplitude=1, global_phase = 45*degrees)\n",
    "print(E2)\n",
    "\n",
    "E3 = E1 - E2\n",
    "print(E3)"
   ]
  },
  {
   "cell_type": "markdown",
   "metadata": {},
   "source": [
    "## Jones vector manipulation\n",
    "\n",
    "There are several operations that can be applied to a Jones vector. Some of them are common to all py_pol objects and are inherited from their parent *Py_pol* class:\n",
    "\n",
    "* **clear**:  Removes data and name form Jones vector.\n",
    "* **copy**:  Creates a copy of the Jones_vector object.\n",
    "* **stretch**:  Stretches a Jones vector of size 1.\n",
    "* **shape_like**:  Takes the shape of another object to use as its own.\n",
    "* **reshape**: Changes the shape of the object.\n",
    "* **flatten**:  Transforms N-D objects into 1-D objects (0-D if only 1 element).\n",
    "* **flip**: Flips the object along some dimensions.\n",
    "* **get_list**: Creates a list with single elements.\n",
    "* **from_list**: Creates the object from a list of single elements.\n",
    "* **concatenate**: Canocatenates several objects into a single one.\n",
    "* **draw**: Draws the components of the object.\n",
    "* **clear**: Clears the information of the object.\n",
    "\n",
    "The rest of the manipulation methods are:\n",
    "\n",
    "* **simplify**:  Simplifies the Jones vector in several ways.\n",
    "* **rotate**: Rotates the Jones vector.\n",
    "* **rotate_to_azimuth**: Rotates the Jones vector to have a certain azimuth.\n",
    "* **sum**: Calculates the summatory of the Jones vectors in the object.\n",
    "* **reciprocal**: Calculates the Jones vector that propagates backwards.\n",
    "* **orthogonal**: Calculates the orthogonal Jones vector.\n",
    "* **normalize**: Normalize the electric field to be normalized in electric field amplitude or intensity.\n",
    "* **remove_global_phase**: Calculates the global phase of the electric field (respect to the X component) and removes it.\n",
    "* **add_global_phase**: Adds a global phase to the Jones vector.\n",
    "* **set_global_phase**: Sets the global phase of the Jones vector.\n",
    "* **add_delay**: Adds a phase to the Y component of the electric field of the Jones vector.\n",
    "\n",
    "All the functions return the *Jones_vector* object. For a more detailed description of each method, refer to the individual documentation of each one.\n",
    "\n",
    "Example:"
   ]
  },
  {
   "cell_type": "code",
   "execution_count": 20,
   "metadata": {},
   "outputs": [
    {
     "name": "stdout",
     "output_type": "stream",
     "text": [
      "Source 1 = \n",
      "[+1.000]   \n",
      "[+0.000]   \n",
      "\n",
      "Source 1 @ 45.00 deg = \n",
      "[+0.707]   \n",
      "[+0.707]   \n",
      "\n"
     ]
    }
   ],
   "source": [
    "E1 = Jones_vector('Source 1')\n",
    "E1.linear_light(azimuth=0*degrees)\n",
    "print(E1)\n",
    "\n",
    "E1.rotate(angle=45*degrees)\n",
    "print(E1)"
   ]
  },
  {
   "cell_type": "markdown",
   "metadata": {},
   "source": [
    "All manipulation methods have the *keep* argument that specifies if the originial object must be preserved or transformed. If *keep* is *True* (default is *False*), a new object is created:"
   ]
  },
  {
   "cell_type": "code",
   "execution_count": 21,
   "metadata": {},
   "outputs": [
    {
     "name": "stdout",
     "output_type": "stream",
     "text": [
      "Source 1 = \n",
      "[+1.000]   \n",
      "[+0.000]   \n",
      " Source 2 = \n",
      "[+0.707]   \n",
      "[+0.707]   \n",
      "\n",
      "Source 2 = \n",
      "[+0.707]   \n",
      "[+0.707]   \n",
      " Source 2 = \n",
      "[+0.707]   \n",
      "[+0.707]   \n",
      "\n"
     ]
    }
   ],
   "source": [
    "E1 = Jones_vector('Source 1')\n",
    "E1.linear_light(azimuth=0*degrees)\n",
    "\n",
    "E2 = E1.rotate(angle=45*degrees, keep=True)\n",
    "E2.name = 'Source 2'\n",
    "print(E1, E2)\n",
    "\n",
    "E2 = E1.rotate(angle=45*degrees, keep=False)\n",
    "E2.name = 'Source 2'\n",
    "print(E1, E2)"
   ]
  },
  {
   "cell_type": "markdown",
   "metadata": {},
   "source": [
    "*Jones_vector* objects allow taking elements and changing them through indices like a *numpy.ndarray*.\n",
    "\n",
    "Examples:"
   ]
  },
  {
   "cell_type": "code",
   "execution_count": 22,
   "metadata": {},
   "outputs": [
    {
     "name": "stdout",
     "output_type": "stream",
     "text": [
      "Original Ex = \n",
      "[[0.35500101+0.j 0.94538106+0.j 0.65144759+0.j 0.63379627+0.j\n",
      "  0.98255865+0.j]\n",
      " [0.43714343+0.j 0.85102872+0.j 0.4445816 +0.j 0.98904345+0.j\n",
      "  0.56117136+0.j]\n",
      " [0.95505127+0.j 0.47750025+0.j 0.55089862+0.j 0.47048076+0.j\n",
      "  0.05289377+0.j]]\n",
      "Original Ey = \n",
      "[[0.30705444+0.j 0.52885621+0.j 0.62037901+0.j 0.37755201+0.j\n",
      "  0.46620769+0.j]\n",
      " [0.62435427+0.j 0.42716733+0.j 0.58935287+0.j 0.86122974+0.j\n",
      "  0.02752495+0.j]\n",
      " [0.06751956+0.j 0.12168219+0.j 0.29304389+0.j 0.05574455+0.j\n",
      "  0.99074919+0.j]]\n",
      "\n",
      "Original_picked = \n",
      "[+0.355]   [+0.945]   [+0.651]   \n",
      "[+0.307]   [+0.529]   [+0.620]   \n",
      "\n"
     ]
    }
   ],
   "source": [
    "M = np.random.rand(2, 3, 5)\n",
    "E = Jones_vector('Original')\n",
    "E.from_matrix(M)\n",
    "print(E)\n",
    "\n",
    "E2 = E[0:3]\n",
    "print(E2)"
   ]
  },
  {
   "cell_type": "code",
   "execution_count": 23,
   "metadata": {},
   "outputs": [
    {
     "name": "stdout",
     "output_type": "stream",
     "text": [
      "Original Ex = \n",
      "[[0.96241651+0.j 0.87062664+0.j 0.91045247+0.j 0.9812124 +0.j\n",
      "  0.99605732+0.j]\n",
      " [0.85265436+0.j 0.97903424+0.j 0.70090319+0.j 0.88598524+0.j\n",
      "  0.84667768+0.j]\n",
      " [0.75594403+0.j 0.67035388+0.j 0.96930049+0.j 0.6361048 +0.j\n",
      "  0.94094799+0.j]\n",
      " [0.89500501+0.j 0.98413128+0.j 0.72509852+0.j 0.96560159+0.j\n",
      "  0.77291154+0.j]]\n",
      "Original Ey = \n",
      "[[0.27157771+0.j 0.49194435+0.j 0.4136137 +0.j 0.19293064+0.j\n",
      "  0.08871204+0.j]\n",
      " [0.5224754 +0.j 0.20369577+0.j 0.71325642+0.j 0.46371345+0.j\n",
      "  0.53210611+0.j]\n",
      " [0.65463626+0.j 0.74204156+0.j 0.24587915+0.j 0.77160267+0.j\n",
      "  0.33855116+0.j]\n",
      " [0.44605609+0.j 0.1774419 +0.j 0.68864515+0.j 0.2600261 +0.j\n",
      "  0.63451379+0.j]]\n",
      "\n"
     ]
    }
   ],
   "source": [
    "E2 = Jones_vector(\"New data\").linear_light(azimuth=np.random.rand(3, 2))\n",
    "E3 = Jones_vector(\"Original\").linear_light(azimuth=np.random.rand(4, 5))\n",
    "E3[0:3,0:2] = E2\n",
    "print(E3)"
   ]
  },
  {
   "cell_type": "markdown",
   "metadata": {},
   "source": [
    "### Picking and setting\n",
    "\n",
    "*Py_pol* objects allow taking elements and changing them through indices like a *numpy.ndarray*.\n",
    "\n",
    "Examples:"
   ]
  },
  {
   "cell_type": "code",
   "execution_count": 24,
   "metadata": {},
   "outputs": [
    {
     "name": "stdout",
     "output_type": "stream",
     "text": [
      "Original = \n",
      "[+0.925]   [+0.872]   [+0.980]   [+0.096]   [+0.788]   \n",
      "[+0.777]   [+0.798]   [+0.066]   [+0.912]   [+0.579]   \n",
      "\n",
      "Original_picked = \n",
      "[+0.872]   [+0.980]   \n",
      "[+0.798]   [+0.066]   \n",
      "\n"
     ]
    }
   ],
   "source": [
    "M = np.random.rand(2, 5)\n",
    "J1 = Jones_vector('Original')\n",
    "J1.from_matrix(M)\n",
    "print(J1)\n",
    "\n",
    "J2 = J1[1:3]\n",
    "print(J2)"
   ]
  },
  {
   "cell_type": "code",
   "execution_count": 25,
   "metadata": {},
   "outputs": [
    {
     "name": "stdout",
     "output_type": "stream",
     "text": [
      "Original Ex = \n",
      "[[ 1.00000000e+00+0.j  9.91444861e-01+0.j  9.65925826e-01+0.j\n",
      "   9.23879533e-01+0.j  8.66025404e-01+0.j]\n",
      " [ 7.93353340e-01+0.j  7.07106781e-01+0.j  6.08761429e-01+0.j\n",
      "   5.00000000e-01+0.j  3.82683432e-01+0.j]\n",
      " [ 2.58819045e-01+0.j  1.30526192e-01+0.j  6.12323400e-17+0.j\n",
      "  -1.30526192e-01+0.j -2.58819045e-01+0.j]\n",
      " [-3.82683432e-01+0.j -5.00000000e-01+0.j -6.08761429e-01+0.j\n",
      "  -7.07106781e-01+0.j -7.93353340e-01+0.j]\n",
      " [-8.66025404e-01+0.j -9.23879533e-01+0.j -9.65925826e-01+0.j\n",
      "  -9.91444861e-01+0.j -1.00000000e+00+0.j]]\n",
      "Original Ey = \n",
      "[[0.00000000e+00+0.j 1.30526192e-01+0.j 2.58819045e-01+0.j\n",
      "  3.82683432e-01+0.j 5.00000000e-01+0.j]\n",
      " [6.08761429e-01+0.j 7.07106781e-01+0.j 7.93353340e-01+0.j\n",
      "  8.66025404e-01+0.j 9.23879533e-01+0.j]\n",
      " [9.65925826e-01+0.j 9.91444861e-01+0.j 1.00000000e+00+0.j\n",
      "  9.91444861e-01+0.j 9.65925826e-01+0.j]\n",
      " [9.23879533e-01+0.j 8.66025404e-01+0.j 7.93353340e-01+0.j\n",
      "  7.07106781e-01+0.j 6.08761429e-01+0.j]\n",
      " [5.00000000e-01+0.j 3.82683432e-01+0.j 2.58819045e-01+0.j\n",
      "  1.30526192e-01+0.j 1.22464680e-16+0.j]]\n",
      "\n",
      "Original_picked Ex = \n",
      "[[ 6.08761429e-01+0.j  5.00000000e-01+0.j]\n",
      " [ 6.12323400e-17+0.j -1.30526192e-01+0.j]]\n",
      "Original_picked Ey = \n",
      "[[0.79335334+0.j 0.8660254 +0.j]\n",
      " [1.        +0.j 0.99144486+0.j]]\n",
      "\n"
     ]
    }
   ],
   "source": [
    "J1 = Jones_vector('Original')\n",
    "angles = np.linspace(0,180*degrees, 25)\n",
    "J1.linear_light(azimuth=angles, shape=[5,5])\n",
    "print(J1)\n",
    "\n",
    "J2 = J1[1:3,2:4]\n",
    "print(J2)"
   ]
  },
  {
   "cell_type": "markdown",
   "metadata": {},
   "source": [
    "### Iterating\n",
    "\n",
    "*Py_pol* objects are iterable. When introduced in a for loop, a new object picking in the first dimension is returned."
   ]
  },
  {
   "cell_type": "code",
   "execution_count": 26,
   "metadata": {},
   "outputs": [
    {
     "name": "stdout",
     "output_type": "stream",
     "text": [
      "E_picked = \n",
      "[+0.985 + +0.000j]   \n",
      "[+0.000 + +0.174j]   \n",
      "\n",
      "E_picked = \n",
      "[+0.696 + -0.123j]   \n",
      "[+0.696 + +0.123j]   \n",
      "\n",
      "E_picked = \n",
      "[+0.000 + -0.174j]   \n",
      "[+0.985 + +0.000j]   \n",
      "\n",
      "E_picked = \n",
      "[-0.696 + -0.123j]   \n",
      "[+0.696 + -0.123j]   \n",
      "\n",
      "E_picked = \n",
      "[-0.985 + -0.000j]   \n",
      "[+0.000 + -0.174j]   \n",
      "\n"
     ]
    }
   ],
   "source": [
    "angles = np.linspace(0, 180*degrees, 5)\n",
    "Jtotal = Jones_vector().general_azimuth_ellipticity(azimuth=angles, ellipticity=10*degrees)\n",
    "for J in Jtotal:\n",
    "    print(J)"
   ]
  },
  {
   "cell_type": "markdown",
   "metadata": {},
   "source": [
    "## Parameters of Jones_vector\n",
    "\n",
    "Several parameters can be measured from a Jones vector. They are implemented in the independent class *Parameters_Jones_vector*, which is stored in the *parameters* field of *Jones_vector* class.\n",
    "\n",
    "* **matrix**:  Gets a numpy array with all the vectors (similat to object.M).\n",
    "* **components**: Calculates the electric field components of the Jones vector.\n",
    "* **amplitudes**: Calculates the electric field amplitudes of the Jones vector.\n",
    "* **intensity**: Calculates the intensity of the Jones vector.\n",
    "* **irradiance**: Calculates the irradiance of the Jones vector.\n",
    "* **alpha**: Calculates the ratio between electric field amplitude angle ($|E_x|$/$|E_y|$).\n",
    "* **delay / delta**: Calculates the delay (phase shift) between Ex and Ey components of the electric field.\n",
    "* **charac_angles**: Calculates both alpha and delay, the characteristic angles of the Jones vector.\n",
    "* **azimuth**: Calculates azimuth, that is, the orientation angle of the major axis.\n",
    "* **ellipticity_angle**: Calculates the ellipticity angle.\n",
    "* **azimuth_ellipticity**: Calculates both azimuth and ellipticity angles.\n",
    "* **ellipse_axes**: Calculates the length of major and minor axis (a,b).\n",
    "* **ellipticity_param**: Calculates the ellipticity parameter, b/a.\n",
    "* **eccentricity**: Calculates the eccentricity, the complementary of the ellipticity parameter.\n",
    "* **global_phase**: Calculates the global phase of the Jones vector (respect to the X component of the electric field).\n",
    "* **degree_linear_polarization**: Calculates the degree of linear polarization of the Jones vector.\n",
    "* **degree_circular_polarization**: Calculates the degree of circular polarization of the Jones vector.\n",
    "* **norm**: Calculates the norm of the Jones vector (same as intensity for Jones vectors).\n",
    "\n",
    "\n",
    "* **get_all**: Returns a dictionary with all the parameters of Jones vector.\n",
    "\n",
    "For a more detailed description of each method, refer to the individual documentation of each one.\n",
    "\n",
    "Example:"
   ]
  },
  {
   "cell_type": "code",
   "execution_count": 27,
   "metadata": {},
   "outputs": [
    {
     "name": "stdout",
     "output_type": "stream",
     "text": [
      "1.0\n"
     ]
    }
   ],
   "source": [
    "E = Jones_vector(\"Source 1\")\n",
    "E.linear_light(azimuth = 45*degrees)\n",
    "I0 = E.parameters.intensity()\n",
    "print(I0)"
   ]
  },
  {
   "cell_type": "markdown",
   "metadata": {},
   "source": [
    "When several Jones vectors are stored in the object, setting *verbose* argument to *True* makes the method print the values in screen. Also, 1D or 2D figures can be shown if the *draw* argument is set to *True*:"
   ]
  },
  {
   "cell_type": "code",
   "execution_count": 28,
   "metadata": {},
   "outputs": [
    {
     "name": "stdout",
     "output_type": "stream",
     "text": [
      "azimuth (12,)\n",
      "The azimuth of Source 1 is (deg.):\n",
      "[  0.          16.36272727  32.72545455  49.08818182  65.45090909\n",
      "  81.81363636  98.17636364 114.53909091 130.90181818 147.26454545\n",
      " 163.62727273 179.99      ]\n",
      "The mean value is 89.995 +- 56.484994071904\n"
     ]
    },
    {
     "data": {
      "image/png": "[encoded data removed]",
      "text/plain": [
       "<Figure size 360x360 with 1 Axes>"
      ]
     },
     "metadata": {
      "needs_background": "light"
     },
     "output_type": "display_data"
    },
    {
     "name": "stdout",
     "output_type": "stream",
     "text": [
      "\n"
     ]
    }
   ],
   "source": [
    "az = np.linspace(0, 179.99*degrees, 12)\n",
    "E = Jones_vector(\"Source 1\")\n",
    "E.general_azimuth_ellipticity(azimuth=az)\n",
    "az = E.parameters.azimuth(draw=True, verbose=True)"
   ]
  },
  {
   "cell_type": "code",
   "execution_count": 29,
   "metadata": {},
   "outputs": [
    {
     "name": "stdout",
     "output_type": "stream",
     "text": [
      "The azimuth and ellipticity angles of Source 1 are (deg.):\n",
      "The mean value of param Azimuth (deg.) is 91.39034179687499 +- 52.24055378247462\n",
      "The mean value of param Ellipticity angle (deg.) is 3.552713678800501e-15 +- 26.184535918359188\n"
     ]
    },
    {
     "data": {
      "image/png": "[encoded data removed]",
      "text/plain": [
       "<Figure size 720x360 with 4 Axes>"
      ]
     },
     "metadata": {
      "needs_background": "light"
     },
     "output_type": "display_data"
    },
    {
     "name": "stdout",
     "output_type": "stream",
     "text": [
      "\n"
     ]
    }
   ],
   "source": [
    "az = np.linspace(0, 179.99*degrees, 128)\n",
    "el = np.linspace(-45*degrees, 45*degrees, 128)\n",
    "AZ, EL = np.meshgrid(az, el)\n",
    "\n",
    "E = Jones_vector(\"Source 1\")\n",
    "E.general_azimuth_ellipticity(azimuth=AZ, ellipticity=EL)\n",
    "AZ, EL = E.parameters.azimuth_ellipticity(draw=True)"
   ]
  },
  {
   "cell_type": "markdown",
   "metadata": {},
   "source": [
    "There is a method in *Parameters_Jones_vector* class, *get_all* that computes all the parameters available and stores in a dictionary *.dict_params()*. Using the *print* function upon the *Parameters_Jones_vector* class invokes the method *get_all*.\n",
    "\n",
    "Example:"
   ]
  },
  {
   "cell_type": "code",
   "execution_count": 30,
   "metadata": {},
   "outputs": [
    {
     "name": "stdout",
     "output_type": "stream",
     "text": [
      "Source 1 = \n",
      "[+1.000]   [+0.831]   [+0.383]   [-0.195]   [-0.707]   \n",
      "[+0.000]   [+0.556]   [+0.924]   [+0.981]   [+0.707]   \n",
      " \n",
      "\n",
      "The elctric field components of Source 1 are (V/m):\n",
      "  Ex (V/m)\n",
      "[ 1.        +0.j  0.83146961+0.j  0.38268343+0.j -0.19509032+0.j\n",
      " -0.70710678+0.j]\n",
      "  Ey (V/m)\n",
      "[0.        +0.j 0.55557023+0.j 0.92387953+0.j 0.98078528+0.j\n",
      " 0.70710678+0.j]\n",
      "The mean value of param Ex (V/m) is (0.2623911882929919+0j) +- 0.6374328012998054\n",
      "The mean value of param Ey (V/m) is (0.6334683654241334+0j) +- 0.3514941224830809\n"
     ]
    },
    {
     "data": {
      "image/png": "[encoded data removed]",
      "text/plain": [
       "<Figure size 720x360 with 2 Axes>"
      ]
     },
     "metadata": {
      "needs_background": "light"
     },
     "output_type": "display_data"
    },
    {
     "name": "stdout",
     "output_type": "stream",
     "text": [
      "\n",
      "The elctric field amplitudes of Source 1 are (V/m):\n",
      "  Ex (V/m)\n",
      "[1.         0.83146961 0.38268343 0.19509032 0.70710678]\n",
      "  Ey (V/m)\n",
      "[0.         0.55557023 0.92387953 0.98078528 0.70710678]\n",
      "The mean value of param Ex (V/m) is 0.6232700295740622 +- 0.294455738781694\n",
      "The mean value of param Ey (V/m) is 0.6334683654241334 +- 0.3514941224830809\n"
     ]
    },
    {
     "data": {
      "image/png": "[encoded data removed]",
      "text/plain": [
       "<Figure size 720x360 with 2 Axes>"
      ]
     },
     "metadata": {
      "needs_background": "light"
     },
     "output_type": "display_data"
    },
    {
     "name": "stdout",
     "output_type": "stream",
     "text": [
      "\n",
      "The intensity of Source 1 is (a.u.):\n",
      "[1. 1. 1. 1. 1.]\n",
      "The mean value is 1.0 +- 0.0\n"
     ]
    },
    {
     "data": {
      "image/png": "[encoded data removed]",
      "text/plain": [
       "<Figure size 360x360 with 1 Axes>"
      ]
     },
     "metadata": {
      "needs_background": "light"
     },
     "output_type": "display_data"
    },
    {
     "name": "stdout",
     "output_type": "stream",
     "text": [
      "\n",
      "The norm of Source 1 is (a.u.):\n",
      "[1. 1. 1. 1. 1.]\n",
      "The mean value is 1.0 +- 0.0\n"
     ]
    },
    {
     "data": {
      "image/png": "[encoded data removed]",
      "text/plain": [
       "<Figure size 360x360 with 1 Axes>"
      ]
     },
     "metadata": {
      "needs_background": "light"
     },
     "output_type": "display_data"
    },
    {
     "name": "stdout",
     "output_type": "stream",
     "text": [
      "\n",
      "The irradiance of Source 1 is (W/m^2):\n",
      "[0.00132721 0.00132721 0.00132721 0.00132721 0.00132721]\n",
      "The mean value is 0.0013272104690361798 +- 0.0\n"
     ]
    },
    {
     "data": {
      "image/png": "[encoded data removed]",
      "text/plain": [
       "<Figure size 360x360 with 1 Axes>"
      ]
     },
     "metadata": {
      "needs_background": "light"
     },
     "output_type": "display_data"
    },
    {
     "name": "stdout",
     "output_type": "stream",
     "text": [
      "\n",
      "The ratio angle between electric field amplitudes of Source 1 is (deg.):\n",
      "[ 0.   33.75 67.5  78.75 45.  ]\n",
      "The mean value is 45.0 +- 27.55675960631076\n"
     ]
    },
    {
     "data": {
      "image/png": "[encoded data removed]",
      "text/plain": [
       "<Figure size 360x360 with 1 Axes>"
      ]
     },
     "metadata": {
      "needs_background": "light"
     },
     "output_type": "display_data"
    },
    {
     "name": "stdout",
     "output_type": "stream",
     "text": [
      "\n",
      "Delay between electric field components of Source 1 is (deg.):\n",
      "[  0.   0.   0. 180. 180.]\n",
      "The mean value is 72.0 +- 88.18163074019441\n"
     ]
    },
    {
     "data": {
      "image/png": "[encoded data removed]",
      "text/plain": [
       "<Figure size 360x360 with 1 Axes>"
      ]
     },
     "metadata": {
      "needs_background": "light"
     },
     "output_type": "display_data"
    },
    {
     "name": "stdout",
     "output_type": "stream",
     "text": [
      "\n",
      "azimuth (5,)\n",
      "The azimuth of Source 1 is (deg.):\n",
      "[  0.    33.75  67.5  101.25 135.  ]\n",
      "The mean value is 67.49999999999999 +- 47.72970773009196\n"
     ]
    },
    {
     "data": {
      "image/png": "[encoded data removed]",
      "text/plain": [
       "<Figure size 360x360 with 1 Axes>"
      ]
     },
     "metadata": {
      "needs_background": "light"
     },
     "output_type": "display_data"
    },
    {
     "name": "stdout",
     "output_type": "stream",
     "text": [
      "\n",
      "The ellipticity angle of Source 1 is (deg.):\n",
      "[0.00000000e+00 0.00000000e+00 0.00000000e+00 1.34258920e-15\n",
      " 3.50835465e-15]\n",
      "The mean value is 9.70188769680624e-16 +- 1.3714785349104249e-15\n"
     ]
    },
    {
     "data": {
      "image/png": "[encoded data removed]",
      "text/plain": [
       "<Figure size 360x360 with 1 Axes>"
      ]
     },
     "metadata": {
      "needs_background": "light"
     },
     "output_type": "display_data"
    },
    {
     "name": "stdout",
     "output_type": "stream",
     "text": [
      "\n",
      "The global phase of Source 1 is (deg.):\n",
      "[  0.   0.   0. 180. 180.]\n",
      "The mean value is 72.0 +- 88.18163074019441\n"
     ]
    },
    {
     "data": {
      "image/png": "[encoded data removed]",
      "text/plain": [
       "<Figure size 360x360 with 1 Axes>"
      ]
     },
     "metadata": {
      "needs_background": "light"
     },
     "output_type": "display_data"
    },
    {
     "name": "stdout",
     "output_type": "stream",
     "text": [
      "\n",
      "azimuth (5,)\n",
      "The ellipse axes of Source 1 are (V/m):\n",
      "  a (V/m)\n",
      "[1. 1. 1. 1. 1.]\n",
      "  b (V/m)\n",
      "[0.0000000e+00 7.4505806e-09 0.0000000e+00 0.0000000e+00 0.0000000e+00]\n",
      "The mean value of param a (V/m) is 1.0 +- 7.021666937153402e-17\n",
      "The mean value of param b (V/m) is 1.4901161193847657e-09 +- 2.980232238769532e-09\n"
     ]
    },
    {
     "data": {
      "image/png": "[encoded data removed]",
      "text/plain": [
       "<Figure size 720x360 with 2 Axes>"
      ]
     },
     "metadata": {
      "needs_background": "light"
     },
     "output_type": "display_data"
    },
    {
     "name": "stdout",
     "output_type": "stream",
     "text": [
      "\n",
      "azimuth (5,)\n",
      "The ellipticity parameter of Source 1 is:\n",
      "[0.0000000e+00 7.4505806e-09 0.0000000e+00 0.0000000e+00 0.0000000e+00]\n",
      "The mean value is 1.490116119384766e-09 +- 2.9802322387695322e-09\n"
     ]
    },
    {
     "data": {
      "image/png": "[encoded data removed]",
      "text/plain": [
       "<Figure size 360x360 with 1 Axes>"
      ]
     },
     "metadata": {
      "needs_background": "light"
     },
     "output_type": "display_data"
    },
    {
     "name": "stdout",
     "output_type": "stream",
     "text": [
      "\n",
      "azimuth (5,)\n",
      "The eccentricity of Source 1 is:\n",
      "[1. 1. 1. 1. 1.]\n",
      "The mean value is 1.0 +- 4.965068306494546e-17\n"
     ]
    },
    {
     "data": {
      "image/png": "[encoded data removed]",
      "text/plain": [
       "<Figure size 360x360 with 1 Axes>"
      ]
     },
     "metadata": {
      "needs_background": "light"
     },
     "output_type": "display_data"
    },
    {
     "name": "stdout",
     "output_type": "stream",
     "text": [
      "\n",
      "The degree of circular polarization of Source 1 is:\n",
      "[-0. -0. -0. -0. -0.]\n",
      "The mean value is 0.0 +- 0.0\n"
     ]
    },
    {
     "data": {
      "image/png": "[encoded data removed]",
      "text/plain": [
       "<Figure size 360x360 with 1 Axes>"
      ]
     },
     "metadata": {
      "needs_background": "light"
     },
     "output_type": "display_data"
    },
    {
     "name": "stdout",
     "output_type": "stream",
     "text": [
      "\n",
      "The degree of linear polarization of Source 1 is:\n",
      "[1. 1. 1. 1. 1.]\n",
      "The mean value is 1.0 +- 0.0\n"
     ]
    },
    {
     "data": {
      "image/png": "[encoded data removed]",
      "text/plain": [
       "<Figure size 360x360 with 1 Axes>"
      ]
     },
     "metadata": {
      "needs_background": "light"
     },
     "output_type": "display_data"
    },
    {
     "name": "stdout",
     "output_type": "stream",
     "text": [
      "\n",
      "\n"
     ]
    }
   ],
   "source": [
    "E = Jones_vector(\"Source 1\")\n",
    "E.linear_light(azimuth = np.linspace(0, 135*degrees, 5))\n",
    "print(E,'\\n')      \n",
    "print(E.parameters)"
   ]
  },
  {
   "cell_type": "markdown",
   "metadata": {},
   "source": [
    "## Checks of Jones_vector\n",
    "\n",
    "There are several checks that can be performed upon a Jones vector. They are implemented in the independent class *Checks_Jones_vector*, which is stored in the *checks* field of *Jones_vector* class.\n",
    "\n",
    "* **is_linear**: Checks if the Jones vector is lienarly polarized.\n",
    "* **is_circular**: Checks if the Jones vector is circularly polarized.\n",
    "* **is_right_handed**: Checks if the Jones vector rotation direction is right handed.\n",
    "* **is_left_handed**: Checks if the Jones vector rotation direction is left handed.\n",
    "\n",
    "\n",
    "* **get_all**: Returns a dictionary with all the checks of Jones vector.\n",
    "\n",
    "For a more detailed description of each method, refer to the individual documentation of each one.\n",
    "\n",
    "Example:"
   ]
  },
  {
   "cell_type": "code",
   "execution_count": 31,
   "metadata": {},
   "outputs": [
    {
     "name": "stdout",
     "output_type": "stream",
     "text": [
      "True\n"
     ]
    }
   ],
   "source": [
    "E = Jones_vector(\"Source 1\")\n",
    "E.linear_light(azimuth = 45*degrees)\n",
    "cond = E.checks.is_linear()\n",
    "print(cond)"
   ]
  },
  {
   "cell_type": "markdown",
   "metadata": {},
   "source": [
    "1D and 2D plot draws are also implemented for this class:"
   ]
  },
  {
   "cell_type": "code",
   "execution_count": 32,
   "metadata": {},
   "outputs": [
    {
     "name": "stdout",
     "output_type": "stream",
     "text": [
      "(3249,) (3249,)\n",
      "Source 1 is right handed:\n",
      "The mean value is nan +- nan\n"
     ]
    },
    {
     "data": {
      "image/png": "[encoded data removed]",
      "text/plain": [
       "<Figure size 360x360 with 2 Axes>"
      ]
     },
     "metadata": {
      "needs_background": "light"
     },
     "output_type": "display_data"
    },
    {
     "name": "stdout",
     "output_type": "stream",
     "text": [
      "\n"
     ]
    }
   ],
   "source": [
    "alpha = np.linspace(45*degrees, 45*degrees, 57)\n",
    "delay = np.linspace(0, 360*degrees, 57)\n",
    "Alpha, Delay = np.meshgrid(alpha, delay)\n",
    "\n",
    "E = Jones_vector(\"Source 1\")\n",
    "E.general_charac_angles(alpha=Alpha, delay=Delay)\n",
    "_ = E.checks.is_right_handed(draw=True)"
   ]
  }
 ],
 "metadata": {
  "kernelspec": {
   "display_name": "Python 3 (ipykernel)",
   "language": "python",
   "name": "python3"
  },
  "language_info": {
   "codemirror_mode": {
    "name": "ipython",
    "version": 3
   },
   "file_extension": ".py",
   "mimetype": "text/x-python",
   "name": "python",
   "nbconvert_exporter": "python",
   "pygments_lexer": "ipython3",
   "version": "3.8.12"
  },
  "toc": {
   "base_numbering": 1,
   "nav_menu": {},
   "number_sections": true,
   "sideBar": true,
   "skip_h1_title": false,
   "title_cell": "Table of Contents",
   "title_sidebar": "Contents",
   "toc_cell": false,
   "toc_position": {},
   "toc_section_display": true,
   "toc_window_display": false
  },
  "varInspector": {
   "cols": {
    "lenName": 16,
    "lenType": 16,
    "lenVar": 40
   },
   "kernels_config": {
    "python": {
     "delete_cmd_postfix": "",
     "delete_cmd_prefix": "del ",
     "library": "var_list.py",
     "varRefreshCmd": "print(var_dic_list())"
    },
    "r": {
     "delete_cmd_postfix": ") ",
     "delete_cmd_prefix": "rm(",
     "library": "var_list.r",
     "varRefreshCmd": "cat(var_dic_list()) "
    }
   },
   "types_to_exclude": [
    "module",
    "function",
    "builtin_function_or_method",
    "instance",
    "_Feature"
   ],
   "window_display": false
  }
 },
 "nbformat": 4,
 "nbformat_minor": 4
}
